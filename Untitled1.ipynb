{
 "cells": [
  {
   "cell_type": "code",
   "execution_count": 29,
   "metadata": {},
   "outputs": [
    {
     "name": "stdout",
     "output_type": "stream",
     "text": [
      "['sed', 'ut', 'unde', 'omnis', 'iste', 'natus', 'error', 'sit', 'voluptatem', 'accusantium', 'doloremque', 'totam', 'rem', 'aperiam', 'eaque', 'quae', 'ab', 'illo', 'inventore', 'veritatis', 'et', 'quasi', 'architecto', 'beatae', 'vitae', 'dicta', 'nemo', 'enim', 'ipsam', 'quia', 'voluptas', 'aspernatur', 'aut', 'odit', 'aut', 'sed', 'quia', 'consequuntur', 'magni', 'dolores', 'qui', 'ratione', 'voluptatem', 'sequi', 'neque', 'porro', 'quisquam', 'qui', 'dolorem', 'quia', 'dolor', 'sit', 'amet', 'consectetur', 'sed', 'quia', 'non', 'numquam', 'eius', 'modi', 'tempora', 'ut', 'labore', 'et', 'dolore', 'magnam', 'aliquam', 'quaerat', 'ut', 'enim', 'ad', 'minima', 'quis', 'nostrum', 'exercitationem', 'ullam', 'corporis', 'suscipit', 'nisi', 'ut', 'aliquid', 'ex', 'ea', 'commodi', 'quis', 'autem', 'vel', 'eum', 'iure', 'qui', 'in', 'ea', 'voluptate', 'velit', 'quam', 'nihil', 'molestiae', 'vel', 'qui', 'dolorem', 'eum', 'quo', 'voluptas', 'nulla', 'at', 'vero', 'eos', 'et', 'accusamus', 'et', 'iusto', 'odio', 'dignissimos', 'qui', 'blanditiis', 'praesentium', 'voluptatum', 'deleniti', 'atque', 'quos', 'dolores', 'et', 'quas', 'molestias', 'excepturi', 'obcaecati', 'cupiditate', 'non', 'similique', 'sunt', 'in', 'qui', 'officia', 'deserunt', 'mollitia', 'id', 'est', 'laborum', 'et', 'dolorum', 'et', 'harum', 'quidem', 'rerum', 'facilis', 'est', 'et', 'expedita', 'nam', 'libero', 'cum', 'soluta', 'nobis', 'est', 'eligendi', 'cumque', 'nihil', 'quo', 'minus', 'quod', 'maxime', 'facere', 'omnis', 'voluptas', 'assumenda', 'omnis', 'dolor', 'temporibus', 'autem', 'quibusdam', 'et', 'aut', 'officiis', 'debitis', 'aut', 'rerum', 'necessitatibus', 'saepe', 'ut', 'et', 'voluptates', 'repudiandae', 'sint', 'et', 'molestiae', 'non', 'itaque', 'earum', 'rerum', 'hic', 'tenetur', 'a', 'sapiente', 'ut', 'aut', 'reiciendis', 'voluptatibus', 'maiores', 'alias', 'consequatur', 'aut', 'perferendis', 'doloribus', 'asperiores']\n"
     ]
    }
   ],
   "source": [
    "s = \"\"\"\n",
    "Sed ut perspiciatis, unde omnis iste natus error sit\n",
    "voluptatem accusantium doloremque laudantium, totam\n",
    "rem aperiam eaque ipsa, quae ab illo inventore\n",
    "veritatis et quasi architecto beatae vitae dicta\n",
    "sunt, explicabo. Nemo enim ipsam voluptatem, quia\n",
    "voluptas sit, aspernatur aut odit aut fugit, sed\n",
    "quia consequuntur magni dolores eos, qui ratione\n",
    "voluptatem sequi nesciunt, neque porro quisquam est,\n",
    "qui dolorem ipsum, quia dolor sit amet consectetur\n",
    "adipisci[ng] velit, sed quia non numquam [do] eius\n",
    "modi tempora inci[di]dunt, ut labore et dolore\n",
    "magnam aliquam quaerat voluptatem. Ut enim ad minima\n",
    "veniam, quis nostrum exercitationem ullam corporis\n",
    "suscipit laboriosam, nisi ut aliquid ex ea commodi\n",
    "consequatur? Quis autem vel eum iure reprehenderit,\n",
    "qui in ea voluptate velit esse, quam nihil molestiae\n",
    "consequatur, vel illum, qui dolorem eum fugiat, quo\n",
    "voluptas nulla pariatur?\n",
    "\n",
    "At vero eos et accusamus et iusto odio dignissimos\n",
    "ducimus, qui blanditiis praesentium voluptatum\n",
    "deleniti atque corrupti, quos dolores et quas\n",
    "molestias excepturi sint, obcaecati cupiditate non\n",
    "provident, similique sunt in culpa, qui officia\n",
    "deserunt mollitia animi, id est laborum et dolorum\n",
    "fuga. Et harum quidem rerum facilis est et expedita\n",
    "distinctio. Nam libero tempore, cum soluta nobis est\n",
    "eligendi optio, cumque nihil impedit, quo minus id,\n",
    "quod maxime placeat, facere possimus, omnis voluptas\n",
    "assumenda est, omnis dolor repellendus. Temporibus\n",
    "autem quibusdam et aut officiis debitis aut rerum\n",
    "necessitatibus saepe eveniet, ut et voluptates\n",
    "repudiandae sint et molestiae non recusandae. Itaque\n",
    "earum rerum hic tenetur a sapiente delectus, ut aut\n",
    "reiciendis voluptatibus maiores alias consequatur\n",
    "aut perferendis doloribus asperiores repellat.\n",
    "\"\"\"\n",
    "def get_normalized_words(s):\n",
    "    assert type (s) is str\n",
    "    t=''\n",
    "    s=s.lower()\n",
    "    s=s.split()\n",
    "    t=[i for i in s if i.isalpha() or i.isspace()]\n",
    "    return t\n",
    "\n",
    "\n",
    "print(get_normalized_words(s))"
   ]
  },
  {
   "cell_type": "code",
   "execution_count": 34,
   "metadata": {},
   "outputs": [
    {
     "data": {
      "text/plain": [
       "[{'d', 'e', 's'},\n",
       " {'t', 'u'},\n",
       " {'d', 'e', 'n', 'u'},\n",
       " {'i', 'm', 'n', 'o', 's'},\n",
       " {'e', 'i', 's', 't'}]"
      ]
     },
     "execution_count": 34,
     "metadata": {},
     "output_type": "execute_result"
    }
   ],
   "source": [
    "words=['sed', 'ut', 'unde', 'omnis', 'iste']\n",
    "\n",
    "def make_itemsets(words):\n",
    "    ans=[set(w) for w in words]\n",
    "    return ans\n",
    "\n",
    "make_itemsets(words)"
   ]
  },
  {
   "cell_type": "code",
   "execution_count": 37,
   "metadata": {},
   "outputs": [
    {
     "name": "stdout",
     "output_type": "stream",
     "text": [
      "['s']\n"
     ]
    }
   ],
   "source": [
    "def intersect_keys(d1, d2):\n",
    "    assert type(d1) is dict or type(d1) is defaultdict\n",
    "    assert type(d2) is dict or type(d2) is defaultdict\n",
    "    a=list(d1.keys())\n",
    "    b=list(d2.keys())\n",
    "    return [element for element in a if element in b]\n",
    "\n",
    "d1={'s': 1, 'e': 1, 'd': 1}\n",
    "d2={'s': 1, ('a', 'b'): 1, ('c', 'a'): 2, ('b', 'a'): 1, ('a', 'c'): 2, ('b', 'c'): 1}\n",
    "print(intersect_keys(d1,d2))      \n",
    "        \n",
    "    \n",
    "    \n",
    "\n"
   ]
  },
  {
   "cell_type": "code",
   "execution_count": null,
   "metadata": {
    "collapsed": true
   },
   "outputs": [],
   "source": []
  }
 ],
 "metadata": {
  "kernelspec": {
   "display_name": "Python 3",
   "language": "python",
   "name": "python3"
  },
  "language_info": {
   "codemirror_mode": {
    "name": "ipython",
    "version": 3
   },
   "file_extension": ".py",
   "mimetype": "text/x-python",
   "name": "python",
   "nbconvert_exporter": "python",
   "pygments_lexer": "ipython3",
   "version": "3.6.1"
  }
 },
 "nbformat": 4,
 "nbformat_minor": 2
}
