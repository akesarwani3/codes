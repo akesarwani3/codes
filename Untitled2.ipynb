{
 "cells": [
  {
   "cell_type": "code",
   "execution_count": 30,
   "metadata": {},
   "outputs": [
    {
     "name": "stdout",
     "output_type": "stream",
     "text": [
      "True\n"
     ]
    }
   ],
   "source": [
    "\n",
    "def is_ssn(s):\n",
    "    parts = s.split('-')\n",
    "    correct_lengths = [3, 2, 4]\n",
    "    if len(parts) != len(correct_lengths):\n",
    "        return False\n",
    "    for p, n in zip(parts, correct_lengths):\n",
    "        if not \n",
    "        (p.isdigit() and len(p) == n):\n",
    "            return False\n",
    "    return True\n",
    "\n",
    "\n",
    "print(is_ssn('832-38-7847'))"
   ]
  },
  {
   "cell_type": "code",
   "execution_count": 56,
   "metadata": {},
   "outputs": [
    {
     "name": "stdout",
     "output_type": "stream",
     "text": [
      "<_sre.SRE_Match object; span=(0, 24), match='JKRowling@Huge-Books.org'>\n",
      "['JKRowling', 'Huge-Books.org']\n"
     ]
    }
   ],
   "source": [
    "import re\n",
    "def parse_email(s):\n",
    "    found=re.search(r'^[a-zA-Z_.-]+@[a-zA-Z _.-]+$',s)\n",
    "    print(found)\n",
    "    if found:\n",
    "        return s.split('@')\n",
    "\n",
    "\n",
    "print(parse_email('JKRowling@Huge-Books.org'))"
   ]
  },
  {
   "cell_type": "code",
   "execution_count": 68,
   "metadata": {},
   "outputs": [
    {
     "name": "stdout",
     "output_type": "stream",
     "text": [
      "JKRowling Huge-Books.org\n"
     ]
    }
   ],
   "source": [
    "import re\n",
    "\n",
    "s='JKRowling@Huge-Books.org'\n",
    "pattern=''' \n",
    "^\n",
    "(?P<name> [a-zA-Z][\\w.-]*)\n",
    "@\n",
    "(?P<domain>[\\w.-]*[a-zA-Z])\n",
    "$\n",
    "'''\n",
    "\n",
    "matcher=re.compile(pattern, re.VERBOSE)\n",
    "matches=matcher.match(s)\n",
    "if matches:\n",
    "    print(matches.group('name'),matches.group('domain'))\n",
    "    \n"
   ]
  },
  {
   "cell_type": "code",
   "execution_count": 63,
   "metadata": {},
   "outputs": [
    {
     "name": "stdout",
     "output_type": "stream",
     "text": [
      "JKRowling Huge-Books.org\n"
     ]
    }
   ],
   "source": [
    "s='JKRowling@Huge-Books.org'\n",
    "pattern = '''\n",
    "       ^\n",
    "       (?P<user>[a-zA-Z][\\w.\\-+]*)\n",
    "       @\n",
    "       (?P<domain>[\\w.\\-]*[a-zA-Z])\n",
    "       $\n",
    "    '''\n",
    "matcher = re.compile(pattern, re.VERBOSE)\n",
    "matches = matcher.match(s)\n",
    "if matches:\n",
    "    print(matches.group('user'),matches.group('domain'))"
   ]
  },
  {
   "cell_type": "code",
   "execution_count": null,
   "metadata": {
    "collapsed": true
   },
   "outputs": [],
   "source": []
  }
 ],
 "metadata": {
  "kernelspec": {
   "display_name": "Python 3",
   "language": "python",
   "name": "python3"
  },
  "language_info": {
   "codemirror_mode": {
    "name": "ipython",
    "version": 3
   },
   "file_extension": ".py",
   "mimetype": "text/x-python",
   "name": "python",
   "nbconvert_exporter": "python",
   "pygments_lexer": "ipython3",
   "version": "3.6.1"
  }
 },
 "nbformat": 4,
 "nbformat_minor": 2
}
