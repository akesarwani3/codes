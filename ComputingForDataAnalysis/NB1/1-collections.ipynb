{
 "cells": [
  {
   "cell_type": "markdown",
   "metadata": {
    "nbgrader": {
     "grade": false,
     "grade_id": "cell-21405e5abbb40a8b",
     "locked": true,
     "schema_version": 1,
     "solution": false
    }
   },
   "source": [
    "# Python review: Basic collections of values\n",
    "\n",
    "This notebook continues the review of Python basics based on [Chris Simpkins's](https://www.cc.gatech.edu/~simpkins/) [Python Bootcamp](https://www.cc.gatech.edu/~simpkins/teaching/python-bootcamp/syllabus.html). The focus here is on basic collections: tuples, dictionaries, and sets."
   ]
  },
  {
   "cell_type": "markdown",
   "metadata": {
    "nbgrader": {
     "grade": false,
     "grade_id": "cell-92b642ed054324f7",
     "locked": true,
     "schema_version": 1,
     "solution": false
    }
   },
   "source": [
    "**Exercise 0** (`minmax_test`: 1 point). Complete the function `minmax(L)`, which takes a list `L` and returns a pair---that is, 2-element Python tuple, or \"2-tuple\"---whose first element is the minimum value in the list and whose second element is the maximum. For instance:\n",
    "\n",
    "```python\n",
    "  minmax([8, 7, 2, 5, 1]) == (1, 8)\n",
    "```"
   ]
  },
  {
   "cell_type": "code",
   "execution_count": 1,
   "metadata": {
    "collapsed": true,
    "nbgrader": {
     "grade": false,
     "grade_id": "minmax",
     "locked": false,
     "schema_version": 1,
     "solution": true
    }
   },
   "outputs": [],
   "source": [
    "def minmax(L):\n",
    "    assert hasattr(L, \"__iter__\")\n",
    "    return min(L),max(L)\n",
    "#\n",
    "# YOUR CODE HERE\n",
    "#\n"
   ]
  },
  {
   "cell_type": "code",
   "execution_count": 2,
   "metadata": {
    "nbgrader": {
     "grade": true,
     "grade_id": "minmax_test",
     "locked": true,
     "points": 1,
     "schema_version": 1,
     "solution": false
    }
   },
   "outputs": [
    {
     "name": "stdout",
     "output_type": "stream",
     "text": [
      "minmax([8, 7, 2, 5, 1]) -> (1, 8) [True: (1, 8)]\n",
      "minmax([643, 650, 567, 667, 375, 849, 621, 688, 669, 433]) -> (375, 849) [True: (375, 849)]\n",
      "\n",
      "(Passed!)\n"
     ]
    }
   ],
   "source": [
    "# `minmax_test`: Test cell\n",
    "\n",
    "L = [8, 7, 2, 5, 1]\n",
    "mmL = minmax(L)\n",
    "mmL_true = (1, 8)\n",
    "print(\"minmax({}) -> {} [True: {}]\".format(L, mmL, mmL_true))\n",
    "assert type(mmL) is tuple and mmL == (1, 8)\n",
    "\n",
    "from random import sample\n",
    "L = sample(range(1000), 10)\n",
    "mmL = minmax(L)\n",
    "L_s = sorted(L)\n",
    "mmL_true = (L_s[0], L_s[-1])\n",
    "print(\"minmax({}) -> {} [True: {}]\".format(L, mmL, mmL_true))\n",
    "assert mmL == mmL_true\n",
    "\n",
    "print(\"\\n(Passed!)\")"
   ]
  },
  {
   "cell_type": "markdown",
   "metadata": {
    "collapsed": true,
    "nbgrader": {
     "grade": false,
     "grade_id": "cell-c178aa0864eac57f",
     "locked": true,
     "schema_version": 1,
     "solution": false
    }
   },
   "source": [
    "**Exercise 1** (`remove_all_test`: 2 points). Complete the function `remove_all(L, x)` so that, given a list `L` and a target value `x`, it returns a *copy* of the list that excludes *all* occurrences of `x` but preserves the order of the remaining elements. For instance:\n",
    "\n",
    "```python\n",
    "    remove_all([1, 2, 3, 2, 4, 8, 2], 2) == [1, 3, 4, 8]\n",
    "```\n",
    "\n",
    "> **Note.** Your implementation should *not* modify the list being passed into `remove_all`."
   ]
  },
  {
   "cell_type": "code",
   "execution_count": 3,
   "metadata": {
    "collapsed": true
   },
   "outputs": [],
   "source": [
    "def remove_all(L, x):\n",
    "    assert type(L) is list and x is not None\n",
    "    #return list(filter(lambda a: a!= x, L))\n",
    "    ans=[]\n",
    "    for i in L:\n",
    "        if i!=x:\n",
    "            ans.append(i)\n",
    "    return ans\n",
    "#\n",
    "# YOUR CODE HERE\n",
    "#\n"
   ]
  },
  {
   "cell_type": "code",
   "execution_count": 4,
   "metadata": {
    "nbgrader": {
     "grade": true,
     "grade_id": "remove_all_test",
     "locked": true,
     "points": 2,
     "schema_version": 1,
     "solution": false
    }
   },
   "outputs": [
    {
     "name": "stdout",
     "output_type": "stream",
     "text": [
      "Testing `remove_all([1, 2, 3, 2, 4, 8, 2], 2)`...\n",
      "\tTrue solution: [1, 3, 4, 8]\n",
      "\tYour computed solution: [1, 3, 4, 8]\n",
      "Testing `remove_all([6, 5, 2, 4, 1, 4, 2, 8, 8, 9, 9, 9, 4, 0, 1, 0, 7, 0, 7, 6], 9)`...\n",
      "\tTrue solution: [6, 5, 2, 4, 1, 4, 2, 8, 8, 4, 0, 1, 0, 7, 0, 7, 6]\n",
      "\tYour computed solution: [6, 5, 2, 4, 1, 4, 2, 8, 8, 4, 0, 1, 0, 7, 0, 7, 6]\n",
      "\n",
      "(Passed!)\n"
     ]
    }
   ],
   "source": [
    "# `remove_all_test`: Test cell\n",
    "def test_it(L, x, L_ans):\n",
    "    print(\"Testing `remove_all({}, {})`...\".format(L, x))\n",
    "    print(\"\\tTrue solution: {}\".format(L_ans))\n",
    "    L_copy = L.copy()\n",
    "    L_rem = remove_all(L_copy, x)\n",
    "    print(\"\\tYour computed solution: {}\".format(L_rem))\n",
    "    assert L_copy == L, \"Your code appears to modify the input list.\"\n",
    "    assert L_rem == L_ans, \"The returned list is incorrect.\"\n",
    "\n",
    "# Test 1: Example\n",
    "test_it([1, 2, 3, 2, 4, 8, 2], 2, [1, 3, 4, 8])\n",
    "\n",
    "# Test 2: Random list\n",
    "from random import randint\n",
    "target = randint(0, 9)\n",
    "L_input = []\n",
    "L_ans = []\n",
    "for _ in range(20):\n",
    "    v = randint(0, 9)\n",
    "    L_input.append(v)\n",
    "    if v != target:\n",
    "        L_ans.append(v)\n",
    "test_it(L_input, target, L_ans)\n",
    "\n",
    "print(\"\\n(Passed!)\")"
   ]
  },
  {
   "cell_type": "markdown",
   "metadata": {
    "nbgrader": {
     "grade": false,
     "grade_id": "cell-bdd2cb7037605dd9",
     "locked": true,
     "schema_version": 1,
     "solution": false
    }
   },
   "source": [
    "**Exercise 2** (`compress_vector_test`: 2 points). Suppose you are given a vector, `x`, containing real values that are mostly zero. For instance:\n",
    "\n",
    "```python\n",
    "    x = [0.0, 0.87, 0.0, 0.0, 0.0, 0.32, 0.46, 0.0, 0.0, 0.10, 0.0, 0.0]\n",
    "```\n",
    "\n",
    "Complete the function, `compress_vector(x)`, so that returns a dictionary `d` with two keys, `d['inds']` and `d['vals']`, which are lists that indicate the position and value of all the *non-zero* entries of `x`. For the previous example,\n",
    "\n",
    "```python\n",
    "    d['inds'] = [1, 5, 6, 9]\n",
    "    d['vals'] = [0.87, 0.32, 0.46, 0.10]\n",
    "```\n",
    "\n",
    "> **Note 1.** Your implementation must _not_ modify the input vector `x`.\n",
    "\n",
    "> **Note 2.** If `x` contains only zero entries, `d['inds']` and `d['vals']` should be empty lists."
   ]
  },
  {
   "cell_type": "code",
   "execution_count": 7,
   "metadata": {
    "collapsed": true,
    "nbgrader": {
     "grade": false,
     "grade_id": "compress_vector",
     "locked": false,
     "schema_version": 1,
     "solution": true
    }
   },
   "outputs": [],
   "source": [
    "def compress_vector(x):\n",
    "    assert type(x) is list\n",
    "    #d = {'inds': [], 'vals': []}\n",
    "    #a=[] \n",
    "    #c=[] \n",
    "    #for i in x:\n",
    "     #   if i>0:\n",
    "      #      b=x.index(i)\n",
    "       #     a.append(b)\n",
    "    \n",
    "    #for j in x:\n",
    "     #   if j>0:\n",
    "      #      c.append(j)\n",
    "        \n",
    "    #d['inds']= a\n",
    "    #d['vals']= c\n",
    "#\n",
    "# YOUR CODE HERE\n",
    "#\n",
    "    #return d\n",
    "    \n",
    "    #d = {}\n",
    "    #inds=[]\n",
    "    #vals=[]\n",
    "    #for i,j in enumerate(x):\n",
    "        #if j>0:\n",
    "            #inds.append(i)\n",
    "            #vals.append(j)\n",
    "   \n",
    "    #d['inds']=inds\n",
    "    #d['vals']=vals\n",
    "    \n",
    "    #return d\n",
    "\n",
    "    d = {}\n",
    "    d['inds']=[i for i,j in enumerate(x) if j>0]\n",
    "    d['vals']=[j for i,j in enumerate(x) if j>0]\n",
    "    return d"
   ]
  },
  {
   "cell_type": "code",
   "execution_count": 8,
   "metadata": {
    "nbgrader": {
     "grade": true,
     "grade_id": "compress_vector_test",
     "locked": true,
     "points": 2,
     "schema_version": 1,
     "solution": false
    }
   },
   "outputs": [
    {
     "name": "stdout",
     "output_type": "stream",
     "text": [
      "Testing `compress_vector(x=[0.0, 0.87, 0.0, 0.0, 0.0, 0.32, 0.46, 0.0, 0.0, 0.1, 0.0, 0.0])`:\n",
      "\t`x` has 8 zero entries.\n",
      "\tx (after call): [0.0, 0.87, 0.0, 0.0, 0.0, 0.32, 0.46, 0.0, 0.0, 0.1, 0.0, 0.0]\n",
      "\td: {'vals': [0.87, 0.32, 0.46, 0.1], 'inds': [1, 5, 6, 9]}\n",
      "\n",
      "Testing `compress_vector(x=[0.0, 0.0, 0.0, 0.0, 0.0, 0.0, 0.0, 0.0, 0.0, 0.0, 0.23, 0.0, 0.0, 0.0, 0.0, 0.0, 0.0, 0.0, 0.0, 0.88])`:\n",
      "\t`x` has 18 zero entries.\n",
      "\tx (after call): [0.0, 0.0, 0.0, 0.0, 0.0, 0.0, 0.0, 0.0, 0.0, 0.0, 0.23, 0.0, 0.0, 0.0, 0.0, 0.0, 0.0, 0.0, 0.0, 0.88]\n",
      "\td: {'vals': [0.23, 0.88], 'inds': [10, 19]}\n",
      "\n",
      "Testing `compress_vector(x=[0.74, 0.0, 0.0, 0.0, 0.0, 0.0, 0.0, 0.0, 0.0, 0.0, 0.0, 0.0, 0.0, 0.0, 0.94, 0.0, 0.0, 0.0, 0.0, 0.0])`:\n",
      "\t`x` has 18 zero entries.\n",
      "\tx (after call): [0.74, 0.0, 0.0, 0.0, 0.0, 0.0, 0.0, 0.0, 0.0, 0.0, 0.0, 0.0, 0.0, 0.0, 0.94, 0.0, 0.0, 0.0, 0.0, 0.0]\n",
      "\td: {'vals': [0.74, 0.94], 'inds': [0, 14]}\n",
      "\n",
      "Testing `compress_vector(x=[0.0, 0.0, 0.0, 0.13, 0.0, 0.0, 0.0, 0.0, 0.0, 0.0, 0.0, 0.0, 0.0, 0.0, 0.0, 0.0, 0.0, 0.0, 0.92, 0.0])`:\n",
      "\t`x` has 18 zero entries.\n",
      "\tx (after call): [0.0, 0.0, 0.0, 0.13, 0.0, 0.0, 0.0, 0.0, 0.0, 0.0, 0.0, 0.0, 0.0, 0.0, 0.0, 0.0, 0.0, 0.0, 0.92, 0.0]\n",
      "\td: {'vals': [0.13, 0.92], 'inds': [3, 18]}\n",
      "Testing `compress_vector(x=[0.0, 0.0, 0.0, 0.0, 0.0, 0.0, 0.0, 0.0, 0.0, 0.0])`:\n",
      "\t`x` has 10 zero entries.\n",
      "\tx (after call): [0.0, 0.0, 0.0, 0.0, 0.0, 0.0, 0.0, 0.0, 0.0, 0.0]\n",
      "\td: {'vals': [], 'inds': []}\n",
      "\n",
      "(Passed!)\n"
     ]
    }
   ],
   "source": [
    "# `compress_vector_test`: Test cell\n",
    "def check_compress_vector(x_orig):\n",
    "    print(\"Testing `compress_vector(x={})`:\".format(x_orig))\n",
    "    x = x_orig.copy()\n",
    "    nz = x.count(0.0)\n",
    "    print(\"\\t`x` has {} zero entries.\".format(nz))\n",
    "    d = compress_vector(x)\n",
    "    print(\"\\tx (after call): {}\".format(x))\n",
    "    print(\"\\td: {}\".format(d))\n",
    "    assert x == x_orig, \"Your implementation appears to modify the input.\"\n",
    "    assert type(d) is dict, \"Output type is not `dict` (a dictionary).\"\n",
    "    assert 'inds' in d and type(d['inds']) is list, \"Output key, 'inds', does not have a value of type `list`.\"\n",
    "    assert 'vals' in d and type(d['vals']) is list, \"Output key, 'vals', does not have a value of type `list`.\"\n",
    "    assert len(d['inds']) == len(d['vals']), \"`d['inds']` and `d['vals']` are lists of unequal length.\"\n",
    "    for i, v in zip(d['inds'], d['vals']):\n",
    "        assert x[i] == v, \"x[{}] == {} instead of {}\".format(i, x[i], v)\n",
    "    assert nz + len(d['vals']) == len(x), \"Output may be missing values.\"\n",
    "    assert len(d.keys()) == 2, \"Output may have keys other than 'inds' and 'vals'.\"\n",
    "    \n",
    "# Test 1: Example\n",
    "x = [0.0, 0.87, 0.0, 0.0, 0.0, 0.32, 0.46, 0.0, 0.0, 0.10, 0.0, 0.0]\n",
    "check_compress_vector(x)\n",
    "\n",
    "# Test 2: Random sparse vectors\n",
    "from random import random\n",
    "for _ in range(3):\n",
    "    print(\"\")\n",
    "    x = []\n",
    "    for _ in range(20):\n",
    "        if random() <= 0.8: # Make about 10% of entries zero\n",
    "            v = 0.0\n",
    "        else:\n",
    "            v = float(\"{:.2f}\".format(random()))\n",
    "        x.append(v)\n",
    "    check_compress_vector(x)\n",
    "    \n",
    "# Test 3: Empty vector\n",
    "x = [0.0] * 10\n",
    "check_compress_vector(x)\n",
    "\n",
    "print(\"\\n(Passed!)\")"
   ]
  },
  {
   "cell_type": "markdown",
   "metadata": {
    "nbgrader": {
     "grade": false,
     "grade_id": "cell-ce49f2928089c229",
     "locked": true,
     "schema_version": 1,
     "solution": false
    }
   },
   "source": [
    "**Repeated indices.** Consider the compressed vector data structure, `d`, in the preceding exercise, which stores a list of indices (`d['inds']`) and a list of values (`d['vals']`).\n",
    "\n",
    "Suppose we allow duplicate indices, possibly with different values. For example:\n",
    "\n",
    "```python\n",
    "    d['inds'] == [0,   3,   7,   3,   3,   5, 1]\n",
    "    d['vals'] == [1.0, 2.0, 3.0, 4.0, 5.0, 6.0, 7.0]\n",
    "```\n",
    "\n",
    "In this case, the index 3 appears three times. (Also note that the indices `d['ind']` need not appear in sorted order.)\n",
    "\n",
    "Let's adopt the convention that when there are repeated indices, the \"true\" value there is the _sum_ of the individual values. In other words, the true vector corresponding to this example of `d` would be:\n",
    "\n",
    "```python\n",
    "    # ind:  0    1    2    3*    4    5    6    7\n",
    "    x == [1.0, 7.0, 0.0, 11.0, 0.0, 6.0, 0.0, 3.0]\n",
    "```"
   ]
  },
  {
   "cell_type": "markdown",
   "metadata": {
    "nbgrader": {
     "grade": false,
     "grade_id": "cell-56a141d4542360fa",
     "locked": true,
     "schema_version": 1,
     "solution": false
    }
   },
   "source": [
    "**Exercise 3** (`decompress_vector_test`: 2 points). Complete the function `decompress_vector(d)` that takes a compressed vector `d`, which is a dictionary with keys for the indices (`inds`) and values (`vals`), and returns the corresponding full vector. For any repeated index, the values should be summed.\n",
    "\n",
    "The function should accept an _optional_ parameter, `n`, that specifies the length of the full vector. You may assume this length is at least `max(d['inds'])+1`."
   ]
  },
  {
   "cell_type": "code",
   "execution_count": 11,
   "metadata": {
    "collapsed": true,
    "nbgrader": {
     "grade": false,
     "grade_id": "decompress_vector",
     "locked": false,
     "schema_version": 1,
     "solution": true
    }
   },
   "outputs": [],
   "source": [
    "def decompress_vector(d, n=None):\n",
    "    # Checks the input\n",
    "    assert type(d) is dict and 'inds' in d and 'vals' in d, \"Not a dictionary or missing keys\"\n",
    "    assert type(d['inds']) is list and type(d['vals']) is list, \"Not a list\"\n",
    "    assert len(d['inds']) == len(d['vals']), \"Length mismatch\"\n",
    "    \n",
    "    # Determine length of the full vector\n",
    "    i_max = max(d['inds']) if d['inds'] else -1\n",
    "    if n is None:\n",
    "        n = i_max+1\n",
    "    else:\n",
    "        assert n > i_max, \"Bad value for full vector length\"\n",
    "        \n",
    "\n",
    "                \n",
    "        \n",
    "#\n",
    "# YOUR CODE HERE\n",
    "#\n",
    "    #test=list(zip(d['inds'],d['vals']))\n",
    "    #listofzeros = [0]*n\n",
    "    #for k,v in test:\n",
    "        #listofzeros[k] += v\n",
    "    \n",
    "    #return(listofzeros)\n",
    "    \n",
    "    a=d['inds']\n",
    "    b=d['vals']\n",
    "    c=list(zip(a, b))\n",
    "    print (c)\n",
    "    final=[0.0]*n\n",
    "    for i,j in c:\n",
    "        final[i]=final[i]+j\n",
    "    \n",
    "    return(final)"
   ]
  },
  {
   "cell_type": "code",
   "execution_count": 12,
   "metadata": {
    "nbgrader": {
     "grade": true,
     "grade_id": "decompress_vector_test",
     "locked": true,
     "points": 2,
     "schema_version": 1,
     "solution": false
    }
   },
   "outputs": [
    {
     "name": "stdout",
     "output_type": "stream",
     "text": [
      "Testing `decompress_vector(d, n)`:\n",
      "\tx_true: [1.0, 7.0, 0.0, 11.0, 0.0, 6.0, 0.0, 3.0]\n",
      "\td: {'vals': [1.0, 2.0, 3.0, 4.0, 5.0, 6.0, 7.0], 'inds': [0, 3, 7, 3, 3, 5, 1]}\n",
      "\tn: None\n",
      "[(0, 1.0), (3, 2.0), (7, 3.0), (3, 4.0), (3, 5.0), (5, 6.0), (1, 7.0)]\n",
      "\t=> x[:8]: [1.0, 7.0, 0.0, 11.0, 0.0, 6.0, 0.0, 3.0]\n",
      "\n",
      "Testing `decompress_vector(d, n)`:\n",
      "\tx_true: [0.0, 0.0, 0.0, 1.45, 0.0, 0.0, 0.0, 0.0, 0.0, 0.0]\n",
      "\td: {'vals': [0.94, 0.51], 'inds': [3, 3]}\n",
      "\tn: 10\n",
      "[(3, 0.94), (3, 0.51)]\n",
      "\t=> x[:10]: [0.0, 0.0, 0.0, 1.45, 0.0, 0.0, 0.0, 0.0, 0.0, 0.0]\n",
      "\n",
      "Testing `decompress_vector(d, n)`:\n",
      "\tx_true: [0.0, 0.0, 0.0, 1.5, 0.0, 0.0, 0.0, 0.0, 0.0, 0.0]\n",
      "\td: {'vals': [0.79, 0.56, 0.15], 'inds': [3, 3, 3]}\n",
      "\tn: 10\n",
      "[(3, 0.79), (3, 0.56), (3, 0.15)]\n",
      "\t=> x[:10]: [0.0, 0.0, 0.0, 1.5, 0.0, 0.0, 0.0, 0.0, 0.0, 0.0]\n",
      "\n",
      "Testing `decompress_vector(d, n)`:\n",
      "\tx_true: [0.0, 0.0, 0.0, 0.0, 0.14, 1.8600000000000003, 0.0, 1.6800000000000002, 0.04, 0.0]\n",
      "\td: {'vals': [0.74, 0.14, 0.56, 0.04, 0.58, 0.29, 0.4, 0.83, 0.14], 'inds': [5, 4, 7, 8, 5, 7, 5, 7, 5]}\n",
      "\tn: 10\n",
      "[(5, 0.74), (4, 0.14), (7, 0.56), (8, 0.04), (5, 0.58), (7, 0.29), (5, 0.4), (7, 0.83), (5, 0.14)]\n",
      "\t=> x[:10]: [0.0, 0.0, 0.0, 0.0, 0.14, 1.8599999999999999, 0.0, 1.6800000000000002, 0.04, 0.0]\n",
      "\n",
      "Testing `decompress_vector(d, n)`:\n",
      "\tx_true: [0.98, 0.0, 0.0, 0.78, 0.65, 0.0, 0.0, 0.0, 1.67, 0.0]\n",
      "\td: {'vals': [0.14, 0.38, 0.15, 0.15, 0.01, 0.98, 0.58, 0.4, 0.8, 0.49], 'inds': [8, 3, 8, 4, 4, 0, 8, 3, 8, 4]}\n",
      "\tn: 10\n",
      "[(8, 0.14), (3, 0.38), (8, 0.15), (4, 0.15), (4, 0.01), (0, 0.98), (8, 0.58), (3, 0.4), (8, 0.8), (4, 0.49)]\n",
      "\t=> x[:10]: [0.98, 0.0, 0.0, 0.78, 0.65, 0.0, 0.0, 0.0, 1.67, 0.0]\n",
      "\n",
      "Testing `decompress_vector(d, n)`:\n",
      "\tx_true: [0.0, 0.0, 0.0, 0.0, 0.0, 0.0, 0.0, 1.31, 0.0, 0.0]\n",
      "\td: {'vals': [0.08, 0.54, 0.69], 'inds': [7, 7, 7]}\n",
      "\tn: 10\n",
      "[(7, 0.08), (7, 0.54), (7, 0.69)]\n",
      "\t=> x[:10]: [0.0, 0.0, 0.0, 0.0, 0.0, 0.0, 0.0, 1.31, 0.0, 0.0]\n",
      "\n",
      "Testing `decompress_vector(d, n)`:\n",
      "\tx_true: [0.0, 0.0, 0.0, 0.0, 0.0]\n",
      "\td: {'vals': [], 'inds': []}\n",
      "\tn: 5\n",
      "[]\n",
      "\t=> x[:5]: [0.0, 0.0, 0.0, 0.0, 0.0]\n",
      "\n",
      "(Passed!)\n"
     ]
    }
   ],
   "source": [
    "# `decompress_vector_test`: Test cell\n",
    "def check_decompress_vector(d_orig, x_true):\n",
    "    print(\"Testing `decompress_vector(d, n)`:\")\n",
    "    print(\"\\tx_true: {}\".format(x_true))\n",
    "    print(\"\\td: {}\".format(d_orig))\n",
    "    d = d_orig.copy()\n",
    "    n_true = len(x_true)\n",
    "    if d['inds'] and max(d['inds'])+1 == n_true:\n",
    "        n = None\n",
    "    else:\n",
    "        n = n_true\n",
    "    print(\"\\tn: {}\".format(n))\n",
    "    x = decompress_vector(d, n)\n",
    "    print(\"\\t=> x[:{}]: {}\".format(len(x), x))\n",
    "    assert type(x) is list and len(x) == n_true, \"Output vector has the wrong length.\"\n",
    "    assert all([abs(x_i - x_true_i) < n_true*1e-15 for x_i, x_true_i in zip(x, x_true)])\n",
    "    assert d == d_orig\n",
    "    \n",
    "# Test 1: Example\n",
    "d = {}\n",
    "d['inds'] = [0,   3,   7,   3,   3,   5, 1]\n",
    "d['vals'] = [1.0, 2.0, 3.0, 4.0, 5.0, 6.0, 7.0]\n",
    "x_true = [1.0, 7.0, 0.0, 11.0, 0.0, 6.0, 0.0, 3.0]\n",
    "check_decompress_vector(d, x_true)\n",
    "\n",
    "# Test 2: Random vectors\n",
    "def gen_cvec_reps(p_nz, n_max):\n",
    "    from random import random, randrange, sample\n",
    "    x_true = [0.0] * n_max\n",
    "    d = {'inds': [], 'vals': []}\n",
    "    for i in range(n_max):\n",
    "        if random() <= p_nz: # Create non-zero\n",
    "            n_rep = randrange(1, 5)\n",
    "            d['inds'].extend([i] * n_rep)\n",
    "            v_i = [float(\"{:.2f}\".format(random())) for _ in range(n_rep)]\n",
    "            d['vals'].extend(v_i)\n",
    "            x_true[i] = sum(v_i)\n",
    "    perm = sample(range(len(d['inds'])), k=len(d['inds']))\n",
    "    d['inds'] = [d['inds'][k] for k in perm]\n",
    "    d['vals'] = [d['vals'][k] for k in perm]\n",
    "    return (d, x_true)\n",
    "\n",
    "p_nz = 0.2 # probability of a non-zero\n",
    "n_max = 10 # maximum full-vector length\n",
    "for _ in range(5): # 5 trials\n",
    "    print(\"\")\n",
    "    (d, x_true) = gen_cvec_reps(p_nz, n_max)\n",
    "    check_decompress_vector(d, x_true)\n",
    "    \n",
    "# Test 3: Empty vector of length 5\n",
    "print(\"\")\n",
    "check_decompress_vector({'inds': [], 'vals': []}, [0.0] * 5)\n",
    "\n",
    "print(\"\\n(Passed!)\")"
   ]
  },
  {
   "cell_type": "markdown",
   "metadata": {
    "nbgrader": {
     "grade": false,
     "grade_id": "cell-0c0b0adae71fd1a3",
     "locked": true,
     "schema_version": 1,
     "solution": false
    }
   },
   "source": [
    "**Exercise 4** (`find_common_inds_test`: 1 point). Suppose you are given two compressed vectors, `d1` and `d2`, each represented as described above and possibly with repeated indices. Complete the function `find_common_inds(d1, d2)` so that it returns a list of the indices they have in common.\n",
    "\n",
    "For instance, suppose:\n",
    "\n",
    "```python\n",
    "    d1 == {'inds': [9, 9, 1, 9, 8, 1], 'vals': [0.28, 0.84, 0.71, 0.03, 0.04, 0.75]}\n",
    "    d2 == {'inds': [0, 9, 9, 1, 3, 3, 9], 'vals': [0.26, 0.06, 0.46, 0.58, 0.42, 0.21, 0.53, 0.76]}\n",
    "```\n",
    "\n",
    "Then:\n",
    "\n",
    "```python\n",
    "    find_common_inds(d1, d2) == [1, 9]\n",
    "```\n",
    "\n",
    "> **Note 1.** The returned list must not have duplicate indices, even if the inputs do. In the example, the index 9 is repeated in both `d1` and `d2`, but the output includes just one 9.\n",
    "\n",
    "> **Note 2.** In the returned list, the order of indices does not matter. For instance, the example shows `[1, 9]` but `[9, 1]` would also be valid."
   ]
  },
  {
   "cell_type": "code",
   "execution_count": 9,
   "metadata": {
    "collapsed": true,
    "nbgrader": {
     "grade": false,
     "grade_id": "find_common_inds",
     "locked": false,
     "schema_version": 1,
     "solution": true
    }
   },
   "outputs": [],
   "source": [
    "def find_common_inds(d1, d2):\n",
    "    assert type(d1) is dict and 'inds' in d1 and 'vals' in d1\n",
    "    assert type(d2) is dict and 'inds' in d2 and 'vals' in d2\n",
    "    l=[]\n",
    "    for i in d1['inds']:\n",
    "        if i in d2['inds']:\n",
    "            l.append(i)\n",
    "    \n",
    "    final=list(set(l))\n",
    "    return final\n",
    "            \n",
    "#\n",
    "# YOUR CODE HERE\n",
    "#\n",
    "\n",
    "\n"
   ]
  },
  {
   "cell_type": "code",
   "execution_count": 10,
   "metadata": {
    "nbgrader": {
     "grade": true,
     "grade_id": "find_common_inds_test",
     "locked": true,
     "points": 1,
     "schema_version": 1,
     "solution": false
    }
   },
   "outputs": [
    {
     "name": "stdout",
     "output_type": "stream",
     "text": [
      "Testing `check_find_common_inds(d1, d2, ans)`:\n",
      "\td1: {'inds': [9, 9, 1, 9, 8, 1], 'vals': [0.28, 0.84, 0.71, 0.03, 0.04, 0.75]}\n",
      "\td2: {'inds': [0, 9, 9, 1, 3, 3, 9], 'vals': [0.26, 0.06, 0.46, 0.58, 0.42, 0.21, 0.53, 0.76]}\n",
      "\texpected ans: [1, 9]\n",
      "\tcomputed common: [9, 1]\n",
      "\n",
      "Testing `check_find_common_inds(d1, d2, ans)`:\n",
      "\td1: {'inds': [13, 10, 1, 17, 7, 16, 3, 3, 12, 17, 18, 12, 5, 1, 16, 5, 3, 12, 1, 10, 18], 'vals': [0.3, 0.1, 0.7, 0.6, 0.1, 0.6, 0.2, 0.0, 0.9, 0.4, 0.4, 0.7, 0.6, 0.1, 0.3, 0.7, 0.8, 0.6, 0.1, 0.9, 0.3]}\n",
      "\td2: {'inds': [0, 9, 19, 8, 5, 6, 17, 6, 19, 9, 14, 17, 0, 9, 11, 2, 14, 5, 2, 2, 5], 'vals': [1.0, 0.3, 0.7, 0.4, 0.1, 0.2, 0.9, 0.6, 0.2, 0.2, 0.8, 0.9, 0.4, 0.1, 0.6, 0.8, 0.9, 1.0, 0.8, 0.4, 0.4]}\n",
      "\texpected ans: [17, 5]\n",
      "\tcomputed common: [17, 5]\n",
      "\n",
      "Testing `check_find_common_inds(d1, d2, ans)`:\n",
      "\td1: {'inds': [16, 19, 3, 4, 3, 10, 4, 7, 9, 14, 11, 9, 19, 3, 4, 17, 14], 'vals': [0.4, 0.5, 0.5, 0.0, 0.1, 0.3, 0.3, 1.0, 0.8, 0.9, 0.7, 0.7, 0.5, 0.6, 1.0, 0.8, 0.0]}\n",
      "\td2: {'inds': [3, 14, 8, 6, 18, 13, 0, 18, 18, 13, 12, 3, 14, 8, 12, 1, 4, 12, 4, 8], 'vals': [0.4, 0.2, 1.0, 0.1, 0.5, 0.8, 0.4, 0.9, 0.6, 0.1, 0.4, 0.3, 0.2, 0.9, 0.9, 0.8, 0.7, 0.2, 1.0, 0.8]}\n",
      "\texpected ans: [14, 3, 4]\n",
      "\tcomputed common: [3, 4, 14]\n",
      "\n",
      "Testing `check_find_common_inds(d1, d2, ans)`:\n",
      "\td1: {'inds': [17, 16, 13, 16, 13, 13, 9, 9, 17, 11, 7, 11, 11, 7, 17, 2, 18, 2, 3, 12, 7], 'vals': [0.8, 0.0, 0.3, 0.8, 0.6, 0.2, 0.8, 0.6, 0.1, 0.1, 0.1, 0.3, 0.3, 0.7, 0.4, 0.7, 0.5, 0.5, 0.7, 0.5, 0.0]}\n",
      "\td2: {'inds': [10, 9, 7, 4, 6, 6, 14, 18, 15, 9, 5, 10, 18, 4, 9, 8, 5, 14, 4, 6, 10, 7, 14], 'vals': [0.2, 0.3, 1.0, 0.4, 0.4, 0.9, 0.6, 0.2, 0.8, 0.6, 0.5, 0.0, 0.2, 0.5, 1.0, 0.6, 0.2, 1.0, 0.8, 0.1, 0.4, 0.8, 0.3]}\n",
      "\texpected ans: [9, 7, 18]\n",
      "\tcomputed common: [9, 18, 7]\n",
      "\n",
      "Testing `check_find_common_inds(d1, d2, ans)`:\n",
      "\td1: {'inds': [4, 2, 4, 5, 18, 5, 7, 4, 12, 15, 7, 16, 14, 13, 16, 2, 16, 7], 'vals': [0.9, 1.0, 0.8, 0.7, 0.1, 0.4, 0.1, 0.9, 0.9, 0.4, 0.2, 0.2, 0.8, 0.8, 0.5, 0.6, 0.3, 0.7]}\n",
      "\td2: {'inds': [11, 11, 7, 9, 5, 15, 15, 9, 3, 0, 12, 12, 1, 0, 8, 7, 9, 12, 1, 0, 11, 15, 1], 'vals': [0.3, 0.7, 0.7, 0.7, 0.6, 0.5, 0.4, 1.0, 0.1, 1.0, 0.8, 0.8, 0.0, 0.2, 0.0, 0.6, 0.1, 0.1, 0.1, 0.4, 0.7, 0.6, 0.5]}\n",
      "\texpected ans: [7, 5, 12, 15]\n",
      "\tcomputed common: [15, 12, 5, 7]\n",
      "\n",
      "Testing `check_find_common_inds(d1, d2, ans)`:\n",
      "\td1: {'inds': [11, 9, 5, 11, 19, 13, 4, 10, 13, 11, 6, 9, 4, 13, 18, 10, 8, 19, 19, 4, 9], 'vals': [0.4, 0.0, 0.9, 0.2, 0.7, 0.8, 0.7, 0.4, 0.6, 0.7, 0.2, 0.2, 0.2, 0.5, 1.0, 0.3, 0.2, 0.1, 0.8, 0.1, 0.8]}\n",
      "\td2: {'inds': [8, 3, 2, 7, 15, 8, 12, 8, 19, 16, 7, 2, 16, 15, 3, 16, 12, 15, 0, 14, 2], 'vals': [0.2, 0.6, 0.8, 0.9, 0.6, 0.9, 0.2, 0.1, 0.5, 0.2, 0.4, 0.1, 0.6, 0.9, 0.8, 0.4, 0.9, 0.5, 0.1, 0.3, 0.8]}\n",
      "\texpected ans: [19, 8]\n",
      "\tcomputed common: [8, 19]\n",
      "\n",
      "(Passed!))\n"
     ]
    }
   ],
   "source": [
    "# `find_common_inds_test`: Test cell\n",
    "def check_find_common_inds(d1, d2, ans):\n",
    "    print(\"Testing `check_find_common_inds(d1, d2, ans)`:\")\n",
    "    print(\"\\td1: {}\".format(d1))\n",
    "    print(\"\\td2: {}\".format(d2))\n",
    "    print(\"\\texpected ans: {}\".format(ans))\n",
    "    common = find_common_inds(d1, d2)\n",
    "    print(\"\\tcomputed common: {}\".format(common))\n",
    "    assert type(common) is list\n",
    "    assert sorted(common) == sorted(ans), \"Answers do not match.\"\n",
    "    \n",
    "# Test 1: Example\n",
    "d1 = {'inds': [9, 9, 1, 9, 8, 1], 'vals': [0.28, 0.84, 0.71, 0.03, 0.04, 0.75]}\n",
    "d2 = {'inds': [0, 9, 9, 1, 3, 3, 9], 'vals': [0.26, 0.06, 0.46, 0.58, 0.42, 0.21, 0.53, 0.76]}\n",
    "ans = [1, 9]\n",
    "check_find_common_inds(d1, d2, ans)\n",
    "\n",
    "# Test 2: Random tests\n",
    "from random import random, randrange, sample, shuffle\n",
    "p_common = 0.2\n",
    "for _ in range(5):\n",
    "    print(\"\")\n",
    "    n_min = 10\n",
    "    x = sample(range(2*n_min), 2*n_min)\n",
    "    i1, i2 = x[:n_min], x[n_min:]\n",
    "    inds1, inds2 = [], []\n",
    "    ans = []\n",
    "    for k, i in enumerate(i1):\n",
    "        if random() <= p_common:\n",
    "            i2[k] = i\n",
    "            ans.append(i)\n",
    "        inds1.extend([i] * randrange(1, 4))\n",
    "        inds2.extend([i2[k]] * randrange(1, 4))\n",
    "    shuffle(inds1)\n",
    "    d1 = {'inds': inds1, 'vals': [float(\"{:.1f}\".format(random())) for _ in range(len(inds1))]}\n",
    "    shuffle(inds2)\n",
    "    d2 = {'inds': inds2, 'vals': [float(\"{:.1f}\".format(random())) for _ in range(len(inds2))]}\n",
    "    check_find_common_inds(d1, d2, ans)\n",
    "\n",
    "print(\"\\n(Passed!))\")"
   ]
  },
  {
   "cell_type": "code",
   "execution_count": null,
   "metadata": {
    "collapsed": true
   },
   "outputs": [],
   "source": []
  }
 ],
 "metadata": {
  "celltoolbar": "Create Assignment",
  "kernelspec": {
   "display_name": "Python 3",
   "language": "python",
   "name": "python3"
  },
  "language_info": {
   "codemirror_mode": {
    "name": "ipython",
    "version": 3
   },
   "file_extension": ".py",
   "mimetype": "text/x-python",
   "name": "python",
   "nbconvert_exporter": "python",
   "pygments_lexer": "ipython3",
   "version": "3.5.2"
  }
 },
 "nbformat": 4,
 "nbformat_minor": 1
}
