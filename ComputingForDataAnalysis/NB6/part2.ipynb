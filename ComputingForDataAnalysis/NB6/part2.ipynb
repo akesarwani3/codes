{
 "cells": [
  {
   "cell_type": "markdown",
   "metadata": {
    "nbgrader": {
     "grade": false,
     "grade_id": "cell-6f2b19db531e74fd",
     "locked": true,
     "schema_version": 1,
     "solution": false
    }
   },
   "source": [
    "# Part 2: Mining the web: Web APIs\n",
    "\n",
    "We hope the preceding exercise was painful: even with tools to process HTML, it is rough downloading raw HTML and trying to extract information from it!\n",
    "\n",
    "> Can you think of any other reasons why scraping websites for data in this way is not a good idea?\n",
    "\n",
    "Luckily, many websites provide an application programming interface (API) for querying their data or otherwise accessing their services from your programs. For instance, Twitter provides a web API for gathering tweets, Flickr provides one for gathering image data, and Github for accessing information about repository histories.\n",
    "\n",
    "These kinds of web APIs are much easier to use than, for instance, the preceding technique which scrapes raw web pages and then has to parse the resulting HTML. Moreover, there are more scalable in the sense that the web servers can transmit structured data in a less verbose form than raw HTML.\n",
    "\n",
    "As a starting example, here is some code to look at the activity on Github related to the public version of our course's materials."
   ]
  },
  {
   "cell_type": "code",
   "execution_count": 1,
   "metadata": {
    "nbgrader": {
     "grade": false,
     "grade_id": "cell-e969cac2e271f5ec",
     "locked": true,
     "schema_version": 1,
     "solution": false
    }
   },
   "outputs": [
    {
     "name": "stdout",
     "output_type": "stream",
     "text": [
      "==> .headers: {'Vary': 'Accept, Accept-Encoding', 'Access-Control-Allow-Origin': '*', 'X-RateLimit-Remaining': '59', 'Content-Security-Policy': \"default-src 'none'\", 'X-GitHub-Request-Id': 'A40C:2488B:4A3C47C:612238C:59E43604', 'X-Poll-Interval': '60', 'X-GitHub-Media-Type': 'github.v3; format=json', 'ETag': 'W/\"9c3f716d29c1bf01e6eb2dccb7850126\"', 'X-Frame-Options': 'deny', 'Date': 'Mon, 16 Oct 2017 04:31:01 GMT', 'Last-Modified': 'Thu, 05 Oct 2017 21:33:08 GMT', 'X-RateLimit-Limit': '60', 'X-Runtime-rack': '0.039466', 'Status': '200 OK', 'X-XSS-Protection': '1; mode=block', 'Content-Encoding': 'gzip', 'X-Content-Type-Options': 'nosniff', 'Cache-Control': 'public, max-age=60, s-maxage=60', 'Strict-Transport-Security': 'max-age=31536000; includeSubdomains; preload', 'Transfer-Encoding': 'chunked', 'Content-Type': 'application/json; charset=utf-8', 'X-RateLimit-Reset': '1508131860', 'Server': 'GitHub.com', 'Access-Control-Expose-Headers': 'ETag, Link, X-GitHub-OTP, X-RateLimit-Limit, X-RateLimit-Remaining, X-RateLimit-Reset, X-OAuth-Scopes, X-Accepted-OAuth-Scopes, X-Poll-Interval'} \n",
      "\n"
     ]
    }
   ],
   "source": [
    "import requests\n",
    "\n",
    "response = requests.get ('https://api.github.com/repos/cse6040/labs-fa17/events')\n",
    "\n",
    "print (\"==> .headers:\", response.headers, \"\\n\")"
   ]
  },
  {
   "cell_type": "markdown",
   "metadata": {
    "nbgrader": {
     "grade": false,
     "grade_id": "cell-2a08d680885303e5",
     "locked": true,
     "schema_version": 1,
     "solution": false
    }
   },
   "source": [
    "Note the `Content-Type` of the response:"
   ]
  },
  {
   "cell_type": "code",
   "execution_count": 2,
   "metadata": {
    "nbgrader": {
     "grade": false,
     "grade_id": "cell-89ebf4242e6c1940",
     "locked": true,
     "schema_version": 1,
     "solution": false
    }
   },
   "outputs": [
    {
     "name": "stdout",
     "output_type": "stream",
     "text": [
      "application/json; charset=utf-8\n"
     ]
    }
   ],
   "source": [
    "print (response.headers['Content-Type'])"
   ]
  },
  {
   "cell_type": "markdown",
   "metadata": {
    "nbgrader": {
     "grade": false,
     "grade_id": "cell-752159137c70eb17",
     "locked": true,
     "schema_version": 1,
     "solution": false
    }
   },
   "source": [
    "The response is in JSON format, which is an open format for exchanging semi-structured data. (JSON stands for **J**ava**S**cript **O**bject **N**otation.) JSON is designed to be human-readable and machine-readable, and maps especially well in Python to nested dictionaries. Let's take a look.\n",
    "\n",
    "> See also [this tutorial](http://www.w3schools.com/json/) for a JSON primer. JSON is among _the_ universal formats for sharing data on the web; see, for instance, https://www.sitepoint.com/10-example-json-files/."
   ]
  },
  {
   "cell_type": "code",
   "execution_count": 3,
   "metadata": {
    "nbgrader": {
     "grade": false,
     "grade_id": "cell-4bcf26ae80bab53b",
     "locked": true,
     "schema_version": 1,
     "solution": false
    }
   },
   "outputs": [
    {
     "name": "stdout",
     "output_type": "stream",
     "text": [
      "<class 'list'>\n",
      "[\n",
      "  {\n",
      "    \"actor\": {\n",
      "      \"avatar_url\": \"https://avatars.githubusercontent.com/u/5316640?\",\n",
      "      \"display_login\": \"rvuduc\",\n",
      "      \"gravatar_id\": \"\",\n",
      "      \"id\": 5316640,\n",
      "      \"login\": \"rvuduc\",\n",
      "      \"url\": \"https://api.github.com/users/rvuduc\"\n",
      "    },\n",
      "    \"created_at\": \"2017-10-05T21:33:08Z\",\n",
      "    \"id\": \"6680506591\",\n",
      "    \"org\": {\n",
      "      \"avatar_url\": \"https://avatars.githubusercontent.com/u/31073927?\",\n",
      "      \"gravatar_id\": \"\",\n",
      "      \"id\": 31073927,\n",
      "      \"login\": \"cse6040\",\n",
      "      \"url\": \"https://api.github.com/orgs/cse6040\"\n",
      "    },\n",
      "    \"payload\": {\n",
      "      \"before\": \"f0599fc53e36a98c42bdde19be5b190520cef9d0\",\n",
      "      \"commits\": [\n",
      "        {\n",
      "          \"author\": {\n",
      "            \"email\": \"richie@cc.gatech.edu\",\n",
      "            \"name\": \"Richard (Rich) Vuduc\"\n",
      "          },\n",
      "          \"distinct\": true,\n",
      "          \"message\": \"Added Kaggle Student Alcohol Consumption data [source: https://www.kaggle.com/uciml/student-alcohol-consumption/data]\",\n",
      "          \"sha\": \"d6af4899e299cf10799e2e6d1c3bf4e97c98c7d3\",\n",
      "          \"url\": \"https://api.github.com/repos/cse6040/labs-fa17/commits/d6af4899e299cf10799e2e6d1c3bf4e97c98c7d3\"\n",
      "        }\n",
      "      ],\n",
      "      \"distinct_size\": 1,\n",
      "      \"head\": \"d6af4899e299cf10799e2e6d1c3bf4e97c98c7d3\",\n",
      "      \"push_id\": 2032158267,\n",
      "      \"ref\": \"refs/heads/master\",\n",
      "      \"size\": 1\n",
      "    },\n",
      "    \"public\": true,\n",
      "    \"repo\": {\n",
      "      \"id\": 100506580,\n",
      "      \"name\": \"cse6040/labs-fa17\",\n",
      "      \"url\": \"https://api.github.com/repos/cse6040/labs-fa17\"\n",
      "    },\n",
      "    \"type\": \"PushEvent\"\n",
      "  },\n",
      "  {\n",
      "    \"actor\": {\n",
      "      \"avatar_url\": \"https://avatars.githubusercontent.com/u/5316640?\",\n",
      "      \"display_login\": \"rvuduc\",\n",
      "      \"gravatar_id\": \"\",\n",
      "      \"id\": 5316640,\n",
      "      \"login\": \"rvuduc\",\n",
      "      \"url\": \"https://api.github.com/users/rvuduc\"\n",
      "    },\n",
      "    \"created_at\": \"2017-09-23T15:54:04Z\",\n",
      "    \"id\": \"6628275422\",\n",
      "    \"org\": {\n",
      "      \"avatar_url\": \"https://avatars.githubusercontent.com/u/31073927?\",\n",
      "      \"gravatar_id\": \"\",\n",
      "      \"id\": 31073927,\n",
      "      \"login\": \"cse6040\",\n",
      "      \"url\": \"https://api.github.com/orgs/cse6040\"\n",
      "    },\n",
      "    \"payload\": {\n",
      "      \"before\": \"c0b4d64ecb7957c09f655758a9fecc4c6f74850b\",\n",
      "      \"commits\": [\n",
      "        {\n",
      "          \"author\": {\n",
      "            \"email\": \"richie@cc.gatech.edu\",\n",
      "            \"name\": \"Richard (Rich) Vuduc\"\n",
      "          },\n",
      "          \"distinct\": true,\n",
      "          \"message\": \"Patch\",\n",
      "          \"sha\": \"f0599fc53e36a98c42bdde19be5b190520cef9d0\",\n",
      "          \"url\": \"https://api.github.com/repos/cse6040/labs-fa17/commits/f0599fc53e36a98c42bdde19be5b190520cef9d0\"\n",
      "        }\n",
      "      ],\n",
      "      \"distinct_size\": 1,\n",
      "      \"head\": \"f0599fc53e36a98c42bdde19be5b190520cef9d0\",\n",
      "      \"push_id\": 2004808906,\n",
      "      \"ref\": \"refs/heads/master\",\n",
      "      \"size\": 1\n",
      "    },\n",
      "    \"public\": true,\n",
      "    \"repo\": {\n",
      "      \"id\": 100506580,\n",
      "      \"name\": \"cse6040/labs-fa17\",\n",
      "      \"url\": \"https://api.github.com/repos/cse6040/labs-fa17\"\n",
      "    },\n",
      "    \"type\": \"PushEvent\"\n",
      "  },\n",
      "  {\n",
      "    \"actor\": {\n",
      "      \"avatar_url\": \"https://avatars.githubusercontent.com/u/5316640?\",\n",
      "      \"display_login\": \"rvuduc\",\n",
      "      \"gravatar_id\": \"\",\n",
      "      \"id\": 5316640,\n",
      "      \"login\": \"rvuduc\",\n",
      "      \"url\": \"https://api.github.com/users/rvuduc\"\n",
      "    },\n",
      "    \"created_at\": \"2017-09-23T05:51:58Z\",\n",
      "    \"id\": \"6627616393\",\n",
      "    \"org\": {\n",
      "      \"avatar_url\": \"https://avatars.githubusercontent.com/u/31073927?\",\n",
      "      \"gravatar_id\": \"\",\n",
      "      \"id\": 31073927,\n",
      "      \"login\": \"cse6040\",\n",
      "      \"url\": \"https://api.github.com/orgs/cse6040\"\n",
      "    },\n",
      "    \"payload\": {\n",
      "      \"before\": \"7d90252951891a56090b551aadb67825dd8422b2\",\n",
      "      \"commits\": [\n",
      "        {\n",
      "          \"author\": {\n",
      "            \"email\": \"richie@cc.gatech.edu\",\n",
      "            \"name\": \"Richard (Rich) Vuduc\"\n",
      "          },\n",
      "          \"distinct\": true,\n",
      "          \"message\": \"Released Lab 8 (viz)\",\n",
      "          \"sha\": \"d68d64519032c5b685f77a184ac97df8396e6d8b\",\n",
      "          \"url\": \"https://api.github.com/repos/cse6040/labs-fa17/commits/d68d64519032c5b685f77a184ac97df8396e6d8b\"\n",
      "        },\n",
      "        {\n",
      "          \"author\": {\n",
      "            \"email\": \"richie@cc.gatech.edu\",\n",
      "            \"name\": \"Richard (Rich) Vuduc\"\n",
      "          },\n",
      "          \"distinct\": true,\n",
      "          \"message\": \"Released Lab 7 (tidy data + pandas)\",\n",
      "          \"sha\": \"c0b4d64ecb7957c09f655758a9fecc4c6f74850b\",\n",
      "          \"url\": \"https://api.github.com/repos/cse6040/labs-fa17/commits/c0b4d64ecb7957c09f655758a9fecc4c6f74850b\"\n",
      "        }\n",
      "      ],\n",
      "      \"distinct_size\": 2,\n",
      "      \"head\": \"c0b4d64ecb7957c09f655758a9fecc4c6f74850b\",\n",
      "      \"push_id\": 2004424462,\n",
      "      \"ref\": \"refs/heads/master\",\n",
      "      \"size\": 2\n",
      "    },\n",
      "    \"public\": true,\n",
      "    \"repo\": {\n",
      "      \"id\": 100506580,\n",
      "      \"name\": \"cse6040/labs-fa17\",\n",
      "      \"url\": \"https://api.github.com/repos/cse6040/labs-fa17\"\n",
      "    },\n",
      "    \"type\": \"PushEvent\"\n",
      "  }\n",
      "]\n"
     ]
    }
   ],
   "source": [
    "import json\n",
    "print(type(response.json ()))\n",
    "print(json.dumps(response.json()[:3], sort_keys=True, indent=2))"
   ]
  },
  {
   "cell_type": "markdown",
   "metadata": {
    "nbgrader": {
     "grade": false,
     "grade_id": "cell-5be03b16bcb0c40f",
     "locked": true,
     "schema_version": 1,
     "solution": false
    }
   },
   "source": [
    "**Exercise 0.** It should be self-evident that the JSON response above consists of a sequence of records, which we will refer to as _events_. Each event is associated with an _actor_. Write some code to extract a dictionary of all actors, where the key is the actor's login and the value is the actor's URL."
   ]
  },
  {
   "cell_type": "code",
   "execution_count": 15,
   "metadata": {
    "nbgrader": {
     "grade": false,
     "grade_id": "extract_actors",
     "locked": false,
     "schema_version": 1,
     "solution": true
    }
   },
   "outputs": [],
   "source": [
    "def extract_actors (json_github_events):\n",
    "    \"\"\"Given JSON records for events in a GitHub repo,\n",
    "    returns a dictionary of the actors and their URLs.\n",
    "    \"\"\"\n",
    "#\n",
    "# YOUR CODE HERE\n",
    "#\n",
    "    urls = {}\n",
    "    for i in json_github_events:\n",
    "        name=i['actor']['display_login']\n",
    "        url=i['actor']['url']\n",
    "        urls[name]=url\n",
    "    return urls"
   ]
  },
  {
   "cell_type": "code",
   "execution_count": 16,
   "metadata": {
    "nbgrader": {
     "grade": true,
     "grade_id": "extract_actors_test",
     "locked": true,
     "points": 0,
     "schema_version": 1,
     "solution": false
    }
   },
   "outputs": [
    {
     "name": "stdout",
     "output_type": "stream",
     "text": [
      "dthai91: https://api.github.com/users/dthai91\n",
      "Augus-Kong: https://api.github.com/users/Augus-Kong\n",
      "rvuduc: https://api.github.com/users/rvuduc\n"
     ]
    }
   ],
   "source": [
    "actor_urls = extract_actors(response.json ())\n",
    "\n",
    "for actor, url in actor_urls.items ():\n",
    "    print ('{}: {}'.format(actor, url))\n",
    "    assert url == \"https://api.github.com/users/{}\".format(actor)"
   ]
  },
  {
   "cell_type": "markdown",
   "metadata": {
    "nbgrader": {
     "grade": false,
     "grade_id": "cell-23355ce56dd4dcdc",
     "locked": true,
     "schema_version": 1,
     "solution": false
    }
   },
   "source": [
    "**Exercise 1.** Write some code that goes to each actor's URL and determines their name. If an actor URL is invalid, that actor should not appear in the output."
   ]
  },
  {
   "cell_type": "code",
   "execution_count": 24,
   "metadata": {
    "nbgrader": {
     "grade": false,
     "grade_id": "get_names",
     "locked": false,
     "schema_version": 1,
     "solution": true
    }
   },
   "outputs": [
    {
     "name": "stdout",
     "output_type": "stream",
     "text": [
      "[\n"
     ]
    },
    {
     "ename": "TypeError",
     "evalue": "string indices must be integers",
     "output_type": "error",
     "traceback": [
      "\u001b[0;31m---------------------------------------------------------------------------\u001b[0m",
      "\u001b[0;31mTypeError\u001b[0m                                 Traceback (most recent call last)",
      "\u001b[0;32m<ipython-input-24-b5ad434e8bcb>\u001b[0m in \u001b[0;36m<module>\u001b[0;34m()\u001b[0m\n\u001b[1;32m     14\u001b[0m         \u001b[0;32mreturn\u001b[0m \u001b[0mname\u001b[0m\u001b[0;34m\u001b[0m\u001b[0m\n\u001b[1;32m     15\u001b[0m \u001b[0;34m\u001b[0m\u001b[0m\n\u001b[0;32m---> 16\u001b[0;31m \u001b[0mlookup_names\u001b[0m\u001b[0;34m(\u001b[0m\u001b[0ma\u001b[0m\u001b[0;34m)\u001b[0m\u001b[0;34m\u001b[0m\u001b[0m\n\u001b[0m\u001b[1;32m     17\u001b[0m \u001b[0;34m\u001b[0m\u001b[0m\n",
      "\u001b[0;32m<ipython-input-24-b5ad434e8bcb>\u001b[0m in \u001b[0;36mlookup_names\u001b[0;34m(actor_urls)\u001b[0m\n\u001b[1;32m     11\u001b[0m     \u001b[0;32mfor\u001b[0m \u001b[0mi\u001b[0m \u001b[0;32min\u001b[0m \u001b[0mactor_urls\u001b[0m\u001b[0;34m:\u001b[0m\u001b[0;34m\u001b[0m\u001b[0m\n\u001b[1;32m     12\u001b[0m         \u001b[0mprint\u001b[0m\u001b[0;34m(\u001b[0m\u001b[0mi\u001b[0m\u001b[0;34m)\u001b[0m\u001b[0;34m\u001b[0m\u001b[0m\n\u001b[0;32m---> 13\u001b[0;31m         \u001b[0mname\u001b[0m\u001b[0;34m=\u001b[0m\u001b[0mi\u001b[0m\u001b[0;34m[\u001b[0m\u001b[0;34m'author'\u001b[0m\u001b[0;34m]\u001b[0m\u001b[0;34m[\u001b[0m\u001b[0;34m'name'\u001b[0m\u001b[0;34m]\u001b[0m\u001b[0;34m\u001b[0m\u001b[0m\n\u001b[0m\u001b[1;32m     14\u001b[0m         \u001b[0;32mreturn\u001b[0m \u001b[0mname\u001b[0m\u001b[0;34m\u001b[0m\u001b[0m\n\u001b[1;32m     15\u001b[0m \u001b[0;34m\u001b[0m\u001b[0m\n",
      "\u001b[0;31mTypeError\u001b[0m: string indices must be integers"
     ]
    }
   ],
   "source": [
    "\n",
    "\n",
    "def lookup_names (actor_urls):\n",
    "    \"\"\"Given a dictionary of (actor, url) pairs, looks up the JSON at\n",
    "    the URL and extracts the user's name (if any). Returns a new\n",
    "    dictionary of (actor, name) pairs.\n",
    "    \"\"\"\n",
    "#\n",
    "# YOUR CODE HERE\n",
    "#\n",
    "    for i in actor_urls:\n",
    "        print(i)\n",
    "        name=i['author']['name']\n",
    "        return name\n",
    "\n",
    "lookup_names(a)\n",
    "\n"
   ]
  },
  {
   "cell_type": "code",
   "execution_count": null,
   "metadata": {
    "collapsed": true,
    "nbgrader": {
     "grade": true,
     "grade_id": "get_names_test",
     "locked": true,
     "points": 0,
     "schema_version": 1,
     "solution": false
    }
   },
   "outputs": [],
   "source": [
    "actor_names = lookup_names (actor_urls)\n",
    "\n",
    "for actor, name in actor_names.items ():\n",
    "    print (\"{}: {}\".format (actor, name))\n",
    "    \n",
    "assert actor_names['rvuduc'] == 'Rich Vuduc (personal account)'"
   ]
  },
  {
   "cell_type": "markdown",
   "metadata": {
    "nbgrader": {
     "grade": false,
     "grade_id": "cell-ae7abfbce62b1cd6",
     "locked": true,
     "schema_version": 1,
     "solution": false
    }
   },
   "source": [
    "That's the end of this notebook. Processing JSON is fairly straightforward, because it maps very naturally to nested dictionaries in Python. You might search the web for other sources of JSON data, including [this one](https://www.yelp.com/dataset/challenge), and do your own processing!"
   ]
  }
 ],
 "metadata": {
  "celltoolbar": "Create Assignment",
  "kernelspec": {
   "display_name": "Python 3",
   "language": "python",
   "name": "python3"
  },
  "language_info": {
   "codemirror_mode": {
    "name": "ipython",
    "version": 3
   },
   "file_extension": ".py",
   "mimetype": "text/x-python",
   "name": "python",
   "nbconvert_exporter": "python",
   "pygments_lexer": "ipython3",
   "version": "3.5.2"
  }
 },
 "nbformat": 4,
 "nbformat_minor": 1
}
