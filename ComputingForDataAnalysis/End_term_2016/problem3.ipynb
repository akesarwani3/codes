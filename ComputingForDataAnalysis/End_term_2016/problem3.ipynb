{
 "cells": [
  {
   "cell_type": "markdown",
   "metadata": {},
   "source": [
    "# Problem 3\n",
    "\n",
    "This problem checks that you can perform some basic data cleaning and analysis. You'll work with what we think is a pretty interesting dataset, which can tell us something about how people move within the United States.\n",
    "\n",
    "This problem has five (5) exercises (numbered 0-4) and is worth a total of ten (10) points."
   ]
  },
  {
   "cell_type": "markdown",
   "metadata": {},
   "source": [
    "## Setup: IRS Tax Migration Data\n",
    "\n",
    "The data for this problem comes from the IRS, which can tell where many households move from or to in any given year based on their tax returns.\n",
    "\n",
    "For your convenience, we've placed the data files you'll need at the links below. Download them now. They are split by year among four consecutive years (2011-2015). \n",
    "\n",
    "- 2011-2012 data: https://cse6040.gatech.edu/datasets/stateoutflow1112.csv\n",
    "- 2012-2013 data: https://cse6040.gatech.edu/datasets/stateoutflow1213.csv\n",
    "- 2013-2014 data: https://cse6040.gatech.edu/datasets/stateoutflow1314.csv\n",
    "- 2014-2015 data: https://cse6040.gatech.edu/datasets/stateoutflow1415.csv\n",
    "\n",
    "These data files reference states by their FIPS codes. So, we'll need some additional data to translate state FIPS numbers to \"friendly\" names.\n",
    "\n",
    "- FIPS data: https://cse6040.gatech.edu/datasets/fips-state-2010-census.txt\n",
    "\n",
    "> These are state-level data though county-level data also exist elsewhere. If you ever need that, you'll find it at the IRS website: https://www.irs.gov/uac/soi-tax-stats-migration-data. And if you ever need the original FIPS codes data, see the Census Bureau website: https://www.census.gov/geo/reference/codes/cou.html."
   ]
  },
  {
   "cell_type": "markdown",
   "metadata": {},
   "source": [
    "Beyond the data, you'll also need the following Python modules."
   ]
  },
  {
   "cell_type": "code",
   "execution_count": 23,
   "metadata": {
    "collapsed": true
   },
   "outputs": [],
   "source": [
    "from IPython.display import display\n",
    "import pandas as pd\n",
    "\n",
    "def tbc (X):\n",
    "    var_names = sorted (X.columns)\n",
    "    Y = X[var_names].copy ()\n",
    "    Y.sort_values (by=var_names, inplace=True)\n",
    "    Y.set_index ([list (range (0, len (Y)))], inplace=True)\n",
    "    return Y\n",
    "\n",
    "def tbeq(A, B):\n",
    "    A_c = tbc(A)\n",
    "    B_c = tbc(B)\n",
    "    return A_c.eq(B_c).all().all()"
   ]
  },
  {
   "cell_type": "markdown",
   "metadata": {},
   "source": [
    "Here is a sneak peek of what one of the data files looks like. Note the encoding specification, which may be needed to get Pandas to parse it."
   ]
  },
  {
   "cell_type": "code",
   "execution_count": 24,
   "metadata": {},
   "outputs": [
    {
     "name": "stdout",
     "output_type": "stream",
     "text": [
      "First few rows...\n"
     ]
    },
    {
     "data": {
      "text/html": [
       "<div>\n",
       "<style>\n",
       "    .dataframe thead tr:only-child th {\n",
       "        text-align: right;\n",
       "    }\n",
       "\n",
       "    .dataframe thead th {\n",
       "        text-align: left;\n",
       "    }\n",
       "\n",
       "    .dataframe tbody tr th {\n",
       "        vertical-align: top;\n",
       "    }\n",
       "</style>\n",
       "<table border=\"1\" class=\"dataframe\">\n",
       "  <thead>\n",
       "    <tr style=\"text-align: right;\">\n",
       "      <th></th>\n",
       "      <th>y1_statefips</th>\n",
       "      <th>y2_statefips</th>\n",
       "      <th>y2_state</th>\n",
       "      <th>y2_state_name</th>\n",
       "      <th>n1</th>\n",
       "      <th>n2</th>\n",
       "      <th>AGI</th>\n",
       "    </tr>\n",
       "  </thead>\n",
       "  <tbody>\n",
       "    <tr>\n",
       "      <th>0</th>\n",
       "      <td>1</td>\n",
       "      <td>96</td>\n",
       "      <td>AL</td>\n",
       "      <td>AL Total Migration US and Foreign</td>\n",
       "      <td>51971</td>\n",
       "      <td>107304</td>\n",
       "      <td>2109108</td>\n",
       "    </tr>\n",
       "    <tr>\n",
       "      <th>1</th>\n",
       "      <td>1</td>\n",
       "      <td>97</td>\n",
       "      <td>AL</td>\n",
       "      <td>AL Total Migration US</td>\n",
       "      <td>50940</td>\n",
       "      <td>105006</td>\n",
       "      <td>2059642</td>\n",
       "    </tr>\n",
       "    <tr>\n",
       "      <th>2</th>\n",
       "      <td>1</td>\n",
       "      <td>98</td>\n",
       "      <td>AL</td>\n",
       "      <td>AL Total Migration Foreign</td>\n",
       "      <td>1031</td>\n",
       "      <td>2298</td>\n",
       "      <td>49465</td>\n",
       "    </tr>\n",
       "  </tbody>\n",
       "</table>\n",
       "</div>"
      ],
      "text/plain": [
       "   y1_statefips  y2_statefips y2_state                      y2_state_name  \\\n",
       "0             1            96       AL  AL Total Migration US and Foreign   \n",
       "1             1            97       AL              AL Total Migration US   \n",
       "2             1            98       AL         AL Total Migration Foreign   \n",
       "\n",
       "      n1      n2      AGI  \n",
       "0  51971  107304  2109108  \n",
       "1  50940  105006  2059642  \n",
       "2   1031    2298    49465  "
      ]
     },
     "metadata": {},
     "output_type": "display_data"
    },
    {
     "name": "stdout",
     "output_type": "stream",
     "text": [
      "\n",
      "...and some from the middle somewhere...\n"
     ]
    },
    {
     "data": {
      "text/html": [
       "<div>\n",
       "<style>\n",
       "    .dataframe thead tr:only-child th {\n",
       "        text-align: right;\n",
       "    }\n",
       "\n",
       "    .dataframe thead th {\n",
       "        text-align: left;\n",
       "    }\n",
       "\n",
       "    .dataframe tbody tr th {\n",
       "        vertical-align: top;\n",
       "    }\n",
       "</style>\n",
       "<table border=\"1\" class=\"dataframe\">\n",
       "  <thead>\n",
       "    <tr style=\"text-align: right;\">\n",
       "      <th></th>\n",
       "      <th>y1_statefips</th>\n",
       "      <th>y2_statefips</th>\n",
       "      <th>y2_state</th>\n",
       "      <th>y2_state_name</th>\n",
       "      <th>n1</th>\n",
       "      <th>n2</th>\n",
       "      <th>AGI</th>\n",
       "    </tr>\n",
       "  </thead>\n",
       "  <tbody>\n",
       "    <tr>\n",
       "      <th>997</th>\n",
       "      <td>22</td>\n",
       "      <td>13</td>\n",
       "      <td>GA</td>\n",
       "      <td>GEORGIA</td>\n",
       "      <td>2526</td>\n",
       "      <td>4984</td>\n",
       "      <td>83544</td>\n",
       "    </tr>\n",
       "    <tr>\n",
       "      <th>998</th>\n",
       "      <td>22</td>\n",
       "      <td>6</td>\n",
       "      <td>CA</td>\n",
       "      <td>CALIFORNIA</td>\n",
       "      <td>2267</td>\n",
       "      <td>3974</td>\n",
       "      <td>89566</td>\n",
       "    </tr>\n",
       "    <tr>\n",
       "      <th>999</th>\n",
       "      <td>22</td>\n",
       "      <td>5</td>\n",
       "      <td>AR</td>\n",
       "      <td>ARKANSAS</td>\n",
       "      <td>1355</td>\n",
       "      <td>2851</td>\n",
       "      <td>52356</td>\n",
       "    </tr>\n",
       "  </tbody>\n",
       "</table>\n",
       "</div>"
      ],
      "text/plain": [
       "     y1_statefips  y2_statefips y2_state y2_state_name    n1    n2    AGI\n",
       "997            22            13       GA       GEORGIA  2526  4984  83544\n",
       "998            22             6       CA    CALIFORNIA  2267  3974  89566\n",
       "999            22             5       AR      ARKANSAS  1355  2851  52356"
      ]
     },
     "metadata": {},
     "output_type": "display_data"
    }
   ],
   "source": [
    "print (\"First few rows...\")\n",
    "display (pd.read_csv ('stateoutflow1112.csv', encoding='latin-1').head (3))\n",
    "\n",
    "print (\"\\n...and some from the middle somewhere...\")\n",
    "display (pd.read_csv ('stateoutflow1112.csv', encoding='latin-1').head (1000).tail (3))"
   ]
  },
  {
   "cell_type": "markdown",
   "metadata": {},
   "source": [
    "The `y1_.*` fields describe the state in which the household originated (the \"source\" vertices) and the `y2_.*` fields describe the state into which the household moved (the \"destination\"). Column `n1` is the number of such households for the given (source, destination) locations. Notice that there are some special FIPS designators as well, e.g., in the first three rows. These show total outflows, which you can use to normalize counts."
   ]
  },
  {
   "cell_type": "markdown",
   "metadata": {},
   "source": [
    "**Exercise 0** (2 points). The data files are separated by year. Write some code to merge all of the data into a single Pandas data frame called `StateOutFlows`. It should have the same columns as the original data (e.g., `y1_statefips`, `y2_statefips`), plus an additional `year` column to hold the year.\n",
    "\n",
    "> Represent the year by a 4-digit value, e.g., `2011` rather than just `11`. Also, use the starting year for the file. That is, if the file is the `1314` file, use `2013` as the year."
   ]
  },
  {
   "cell_type": "code",
   "execution_count": 25,
   "metadata": {
    "nbgrader": {
     "grade": false,
     "grade_id": "StateOutFlows",
     "locked": false,
     "solution": true
    }
   },
   "outputs": [],
   "source": [
    "##### BEGIN SOLUTION\n",
    "import numpy as np\n",
    "all_df = []\n",
    "for yy in range (11, 15):\n",
    "    filename = \"stateoutflow{}{}.csv\".format (yy, yy+1)\n",
    "    df = pd.read_csv (filename, encoding='latin-1')\n",
    "    df['year'] = 2000 + yy\n",
    "    all_df.append (df)\n",
    "\n",
    "StateOutFlows = pd.concat (all_df)\n",
    "\n",
    "StateOutFlows.to_csv ('StateOutFlows_soln.csv', index=False)\n",
    "### END SOLUTION"
   ]
  },
  {
   "cell_type": "code",
   "execution_count": 26,
   "metadata": {
    "nbgrader": {
     "grade": true,
     "grade_id": "StateOutFlows_test",
     "locked": true,
     "points": 2,
     "solution": false
    }
   },
   "outputs": [
    {
     "name": "stdout",
     "output_type": "stream",
     "text": [
      "Found 11320 outflow records between 2011-2015.\n",
      "First few rows...\n"
     ]
    },
    {
     "data": {
      "text/html": [
       "<div>\n",
       "<style>\n",
       "    .dataframe thead tr:only-child th {\n",
       "        text-align: right;\n",
       "    }\n",
       "\n",
       "    .dataframe thead th {\n",
       "        text-align: left;\n",
       "    }\n",
       "\n",
       "    .dataframe tbody tr th {\n",
       "        vertical-align: top;\n",
       "    }\n",
       "</style>\n",
       "<table border=\"1\" class=\"dataframe\">\n",
       "  <thead>\n",
       "    <tr style=\"text-align: right;\">\n",
       "      <th></th>\n",
       "      <th>y1_statefips</th>\n",
       "      <th>y2_statefips</th>\n",
       "      <th>y2_state</th>\n",
       "      <th>y2_state_name</th>\n",
       "      <th>n1</th>\n",
       "      <th>n2</th>\n",
       "      <th>AGI</th>\n",
       "      <th>year</th>\n",
       "    </tr>\n",
       "  </thead>\n",
       "  <tbody>\n",
       "    <tr>\n",
       "      <th>0</th>\n",
       "      <td>1</td>\n",
       "      <td>96</td>\n",
       "      <td>AL</td>\n",
       "      <td>AL Total Migration US and Foreign</td>\n",
       "      <td>51971</td>\n",
       "      <td>107304</td>\n",
       "      <td>2109108</td>\n",
       "      <td>2011</td>\n",
       "    </tr>\n",
       "    <tr>\n",
       "      <th>1</th>\n",
       "      <td>1</td>\n",
       "      <td>97</td>\n",
       "      <td>AL</td>\n",
       "      <td>AL Total Migration US</td>\n",
       "      <td>50940</td>\n",
       "      <td>105006</td>\n",
       "      <td>2059642</td>\n",
       "      <td>2011</td>\n",
       "    </tr>\n",
       "    <tr>\n",
       "      <th>2</th>\n",
       "      <td>1</td>\n",
       "      <td>98</td>\n",
       "      <td>AL</td>\n",
       "      <td>AL Total Migration Foreign</td>\n",
       "      <td>1031</td>\n",
       "      <td>2298</td>\n",
       "      <td>49465</td>\n",
       "      <td>2011</td>\n",
       "    </tr>\n",
       "    <tr>\n",
       "      <th>3</th>\n",
       "      <td>1</td>\n",
       "      <td>1</td>\n",
       "      <td>AL</td>\n",
       "      <td>AL Non-migrants</td>\n",
       "      <td>1584665</td>\n",
       "      <td>3603439</td>\n",
       "      <td>87222478</td>\n",
       "      <td>2011</td>\n",
       "    </tr>\n",
       "    <tr>\n",
       "      <th>4</th>\n",
       "      <td>1</td>\n",
       "      <td>13</td>\n",
       "      <td>GA</td>\n",
       "      <td>GEORGIA</td>\n",
       "      <td>9920</td>\n",
       "      <td>19470</td>\n",
       "      <td>329213</td>\n",
       "      <td>2011</td>\n",
       "    </tr>\n",
       "  </tbody>\n",
       "</table>\n",
       "</div>"
      ],
      "text/plain": [
       "   y1_statefips  y2_statefips y2_state                      y2_state_name  \\\n",
       "0             1            96       AL  AL Total Migration US and Foreign   \n",
       "1             1            97       AL              AL Total Migration US   \n",
       "2             1            98       AL         AL Total Migration Foreign   \n",
       "3             1             1       AL                    AL Non-migrants   \n",
       "4             1            13       GA                            GEORGIA   \n",
       "\n",
       "        n1       n2       AGI  year  \n",
       "0    51971   107304   2109108  2011  \n",
       "1    50940   105006   2059642  2011  \n",
       "2     1031     2298     49465  2011  \n",
       "3  1584665  3603439  87222478  2011  \n",
       "4     9920    19470    329213  2011  "
      ]
     },
     "metadata": {},
     "output_type": "display_data"
    },
    {
     "name": "stdout",
     "output_type": "stream",
     "text": [
      "\n",
      "(Passed!)\n"
     ]
    }
   ],
   "source": [
    "assert 'StateOutFlows' in globals ()\n",
    "assert type (StateOutFlows) is type (pd.DataFrame ())\n",
    "\n",
    "print (\"Found {} outflow records between 2011-2015.\".format (len (StateOutFlows)))\n",
    "print (\"First few rows...\")\n",
    "display (StateOutFlows.head ())\n",
    "\n",
    "StateOutFlows_soln = pd.read_csv ('StateOutFlows_soln.csv')\n",
    "assert tbeq (StateOutFlows, StateOutFlows_soln)\n",
    "\n",
    "print (\"\\n(Passed!)\")"
   ]
  },
  {
   "cell_type": "markdown",
   "metadata": {},
   "source": [
    "Observe that the `y2_state_name` column has some special values.\n",
    "\n",
    "For instance, suppose you want to know the _total_ number of households that filed returns within the state of Alabama. Evidently, there is a row in each year with `AL Total Migration US and Foreign` as well as an `AL Non-migrants`, the sum of which is presumably the total number of returns.\n",
    "\n",
    "**Exercise 1** (4 points). Create a new Pandas data frame named `Totals` with one row for each state and the following five (5) columns:\n",
    "\n",
    "- `st`: The two-letter state abbreviation\n",
    "- `year`: The year of the observation\n",
    "- `migrated`: The state's `Total Migration US and Foreign` value during that year\n",
    "- `stayed`: The state's `Non-migrants` value that year\n",
    "- `all`: The sum of `migrated` and `stayed` columns\n",
    "\n",
    "> _Hint:_ Before proceeding, run the cell below and observe how the strings marking total migrations appear."
   ]
  },
  {
   "cell_type": "code",
   "execution_count": 44,
   "metadata": {
    "nbgrader": {
     "grade": false,
     "grade_id": "Totals",
     "locked": false,
     "solution": true
    },
    "scrolled": true
   },
   "outputs": [
    {
     "name": "stdout",
     "output_type": "stream",
     "text": [
      "=== HINT! Observe this hint before proceeding with your solution... ===\n",
      "\n",
      "['GEORGIA', 'GA Total Migration US and Foreign', 'GA Total Migration US', 'GA Total Migration Foreign', 'GA Non-migrants', 'Georgia', 'GA Total Migration-US and Foreign', 'GA Total Migration-US', 'GA Total Migration-Foreign', 'GA Total Migration-Same State']\n"
     ]
    },
    {
     "data": {
      "text/html": [
       "<div>\n",
       "<style>\n",
       "    .dataframe thead tr:only-child th {\n",
       "        text-align: right;\n",
       "    }\n",
       "\n",
       "    .dataframe thead th {\n",
       "        text-align: left;\n",
       "    }\n",
       "\n",
       "    .dataframe tbody tr th {\n",
       "        vertical-align: top;\n",
       "    }\n",
       "</style>\n",
       "<table border=\"1\" class=\"dataframe\">\n",
       "  <thead>\n",
       "    <tr style=\"text-align: right;\">\n",
       "      <th></th>\n",
       "      <th>st</th>\n",
       "      <th>year</th>\n",
       "      <th>migrated</th>\n",
       "      <th>stayed</th>\n",
       "      <th>all</th>\n",
       "    </tr>\n",
       "  </thead>\n",
       "  <tbody>\n",
       "    <tr>\n",
       "      <th>0</th>\n",
       "      <td>AL</td>\n",
       "      <td>2011</td>\n",
       "      <td>51971</td>\n",
       "      <td>1584665</td>\n",
       "      <td>1636636</td>\n",
       "    </tr>\n",
       "    <tr>\n",
       "      <th>1</th>\n",
       "      <td>AK</td>\n",
       "      <td>2011</td>\n",
       "      <td>19446</td>\n",
       "      <td>258223</td>\n",
       "      <td>277669</td>\n",
       "    </tr>\n",
       "    <tr>\n",
       "      <th>2</th>\n",
       "      <td>AZ</td>\n",
       "      <td>2011</td>\n",
       "      <td>91135</td>\n",
       "      <td>2121852</td>\n",
       "      <td>2212987</td>\n",
       "    </tr>\n",
       "    <tr>\n",
       "      <th>3</th>\n",
       "      <td>AR</td>\n",
       "      <td>2011</td>\n",
       "      <td>33258</td>\n",
       "      <td>944195</td>\n",
       "      <td>977453</td>\n",
       "    </tr>\n",
       "    <tr>\n",
       "      <th>4</th>\n",
       "      <td>CA</td>\n",
       "      <td>2011</td>\n",
       "      <td>266673</td>\n",
       "      <td>13084530</td>\n",
       "      <td>13351203</td>\n",
       "    </tr>\n",
       "  </tbody>\n",
       "</table>\n",
       "</div>"
      ],
      "text/plain": [
       "   st  year  migrated    stayed       all\n",
       "0  AL  2011     51971   1584665   1636636\n",
       "1  AK  2011     19446    258223    277669\n",
       "2  AZ  2011     91135   2121852   2212987\n",
       "3  AR  2011     33258    944195    977453\n",
       "4  CA  2011    266673  13084530  13351203"
      ]
     },
     "execution_count": 44,
     "metadata": {},
     "output_type": "execute_result"
    }
   ],
   "source": [
    "print (\"=== HINT! Observe this hint before proceeding with your solution... ===\\n\")\n",
    "print (list (StateOutFlows[StateOutFlows['y2_state'] == 'GA']['y2_state_name'].unique ()))\n",
    "\n",
    "#\n",
    "# YOUR CODE HERE\n",
    "#\n",
    "migrated=StateOutFlows[StateOutFlows['y2_state_name'].str.contains(\"Total Migration US and Foreign\")]\n",
    "\n",
    "stayed=StateOutFlows[StateOutFlows['y2_state_name'].str.contains(\"Non-migrants\")]\n",
    "initial=migrated[['y2_state','year','n1']]\n",
    "std= stayed[['y2_state','year','n1']]\n",
    "\n",
    "Totals=initial.merge(std,on=['y2_state','year'],how='left')\n",
    "Totals['all']=Totals['n1_x']+Totals['n1_y']\n",
    "\n",
    "Totals.rename(columns={'y2_state': 'st','n1_x':'migrated','n1_y':'stayed'}, inplace=True)\n",
    "\n",
    "Totals.head()\n"
   ]
  },
  {
   "cell_type": "code",
   "execution_count": 45,
   "metadata": {
    "nbgrader": {
     "grade": true,
     "grade_id": "tidy_totals",
     "locked": true,
     "points": 4,
     "solution": false
    }
   },
   "outputs": [
    {
     "ename": "FileNotFoundError",
     "evalue": "File b'Totals_soln.csv' does not exist",
     "output_type": "error",
     "traceback": [
      "\u001b[0;31m---------------------------------------------------------------------------\u001b[0m",
      "\u001b[0;31mFileNotFoundError\u001b[0m                         Traceback (most recent call last)",
      "\u001b[0;32m<ipython-input-45-59a5fdad86b6>\u001b[0m in \u001b[0;36m<module>\u001b[0;34m()\u001b[0m\n\u001b[0;32m----> 1\u001b[0;31m \u001b[0mTotals_soln\u001b[0m \u001b[0;34m=\u001b[0m \u001b[0mpd\u001b[0m\u001b[0;34m.\u001b[0m\u001b[0mread_csv\u001b[0m \u001b[0;34m(\u001b[0m\u001b[0;34m'Totals_soln.csv'\u001b[0m\u001b[0;34m)\u001b[0m\u001b[0;34m\u001b[0m\u001b[0m\n\u001b[0m\u001b[1;32m      2\u001b[0m \u001b[0;34m\u001b[0m\u001b[0m\n\u001b[1;32m      3\u001b[0m \u001b[0;32massert\u001b[0m \u001b[0;34m'Totals'\u001b[0m \u001b[0;32min\u001b[0m \u001b[0mglobals\u001b[0m \u001b[0;34m(\u001b[0m\u001b[0;34m)\u001b[0m\u001b[0;34m\u001b[0m\u001b[0m\n\u001b[1;32m      4\u001b[0m \u001b[0;32massert\u001b[0m \u001b[0mtype\u001b[0m \u001b[0;34m(\u001b[0m\u001b[0mTotals\u001b[0m\u001b[0;34m)\u001b[0m \u001b[0;32mis\u001b[0m \u001b[0mtype\u001b[0m \u001b[0;34m(\u001b[0m\u001b[0mTotals_soln\u001b[0m\u001b[0;34m)\u001b[0m\u001b[0;34m\u001b[0m\u001b[0m\n\u001b[1;32m      5\u001b[0m \u001b[0;32massert\u001b[0m \u001b[0mset\u001b[0m \u001b[0;34m(\u001b[0m\u001b[0mTotals\u001b[0m\u001b[0;34m.\u001b[0m\u001b[0mcolumns\u001b[0m\u001b[0;34m)\u001b[0m \u001b[0;34m==\u001b[0m \u001b[0mset\u001b[0m \u001b[0;34m(\u001b[0m\u001b[0;34m[\u001b[0m\u001b[0;34m'st'\u001b[0m\u001b[0;34m,\u001b[0m \u001b[0;34m'year'\u001b[0m\u001b[0;34m,\u001b[0m \u001b[0;34m'migrated'\u001b[0m\u001b[0;34m,\u001b[0m \u001b[0;34m'stayed'\u001b[0m\u001b[0;34m,\u001b[0m \u001b[0;34m'all'\u001b[0m\u001b[0;34m]\u001b[0m\u001b[0;34m)\u001b[0m\u001b[0;34m\u001b[0m\u001b[0m\n",
      "\u001b[0;32m/usr/local/lib/python3.5/dist-packages/pandas/io/parsers.py\u001b[0m in \u001b[0;36mparser_f\u001b[0;34m(filepath_or_buffer, sep, delimiter, header, names, index_col, usecols, squeeze, prefix, mangle_dupe_cols, dtype, engine, converters, true_values, false_values, skipinitialspace, skiprows, nrows, na_values, keep_default_na, na_filter, verbose, skip_blank_lines, parse_dates, infer_datetime_format, keep_date_col, date_parser, dayfirst, iterator, chunksize, compression, thousands, decimal, lineterminator, quotechar, quoting, escapechar, comment, encoding, dialect, tupleize_cols, error_bad_lines, warn_bad_lines, skipfooter, skip_footer, doublequote, delim_whitespace, as_recarray, compact_ints, use_unsigned, low_memory, buffer_lines, memory_map, float_precision)\u001b[0m\n\u001b[1;32m    653\u001b[0m                     skip_blank_lines=skip_blank_lines)\n\u001b[1;32m    654\u001b[0m \u001b[0;34m\u001b[0m\u001b[0m\n\u001b[0;32m--> 655\u001b[0;31m         \u001b[0;32mreturn\u001b[0m \u001b[0m_read\u001b[0m\u001b[0;34m(\u001b[0m\u001b[0mfilepath_or_buffer\u001b[0m\u001b[0;34m,\u001b[0m \u001b[0mkwds\u001b[0m\u001b[0;34m)\u001b[0m\u001b[0;34m\u001b[0m\u001b[0m\n\u001b[0m\u001b[1;32m    656\u001b[0m \u001b[0;34m\u001b[0m\u001b[0m\n\u001b[1;32m    657\u001b[0m     \u001b[0mparser_f\u001b[0m\u001b[0;34m.\u001b[0m\u001b[0m__name__\u001b[0m \u001b[0;34m=\u001b[0m \u001b[0mname\u001b[0m\u001b[0;34m\u001b[0m\u001b[0m\n",
      "\u001b[0;32m/usr/local/lib/python3.5/dist-packages/pandas/io/parsers.py\u001b[0m in \u001b[0;36m_read\u001b[0;34m(filepath_or_buffer, kwds)\u001b[0m\n\u001b[1;32m    403\u001b[0m \u001b[0;34m\u001b[0m\u001b[0m\n\u001b[1;32m    404\u001b[0m     \u001b[0;31m# Create the parser.\u001b[0m\u001b[0;34m\u001b[0m\u001b[0;34m\u001b[0m\u001b[0m\n\u001b[0;32m--> 405\u001b[0;31m     \u001b[0mparser\u001b[0m \u001b[0;34m=\u001b[0m \u001b[0mTextFileReader\u001b[0m\u001b[0;34m(\u001b[0m\u001b[0mfilepath_or_buffer\u001b[0m\u001b[0;34m,\u001b[0m \u001b[0;34m**\u001b[0m\u001b[0mkwds\u001b[0m\u001b[0;34m)\u001b[0m\u001b[0;34m\u001b[0m\u001b[0m\n\u001b[0m\u001b[1;32m    406\u001b[0m \u001b[0;34m\u001b[0m\u001b[0m\n\u001b[1;32m    407\u001b[0m     \u001b[0;32mif\u001b[0m \u001b[0mchunksize\u001b[0m \u001b[0;32mor\u001b[0m \u001b[0miterator\u001b[0m\u001b[0;34m:\u001b[0m\u001b[0;34m\u001b[0m\u001b[0m\n",
      "\u001b[0;32m/usr/local/lib/python3.5/dist-packages/pandas/io/parsers.py\u001b[0m in \u001b[0;36m__init__\u001b[0;34m(self, f, engine, **kwds)\u001b[0m\n\u001b[1;32m    760\u001b[0m             \u001b[0mself\u001b[0m\u001b[0;34m.\u001b[0m\u001b[0moptions\u001b[0m\u001b[0;34m[\u001b[0m\u001b[0;34m'has_index_names'\u001b[0m\u001b[0;34m]\u001b[0m \u001b[0;34m=\u001b[0m \u001b[0mkwds\u001b[0m\u001b[0;34m[\u001b[0m\u001b[0;34m'has_index_names'\u001b[0m\u001b[0;34m]\u001b[0m\u001b[0;34m\u001b[0m\u001b[0m\n\u001b[1;32m    761\u001b[0m \u001b[0;34m\u001b[0m\u001b[0m\n\u001b[0;32m--> 762\u001b[0;31m         \u001b[0mself\u001b[0m\u001b[0;34m.\u001b[0m\u001b[0m_make_engine\u001b[0m\u001b[0;34m(\u001b[0m\u001b[0mself\u001b[0m\u001b[0;34m.\u001b[0m\u001b[0mengine\u001b[0m\u001b[0;34m)\u001b[0m\u001b[0;34m\u001b[0m\u001b[0m\n\u001b[0m\u001b[1;32m    763\u001b[0m \u001b[0;34m\u001b[0m\u001b[0m\n\u001b[1;32m    764\u001b[0m     \u001b[0;32mdef\u001b[0m \u001b[0mclose\u001b[0m\u001b[0;34m(\u001b[0m\u001b[0mself\u001b[0m\u001b[0;34m)\u001b[0m\u001b[0;34m:\u001b[0m\u001b[0;34m\u001b[0m\u001b[0m\n",
      "\u001b[0;32m/usr/local/lib/python3.5/dist-packages/pandas/io/parsers.py\u001b[0m in \u001b[0;36m_make_engine\u001b[0;34m(self, engine)\u001b[0m\n\u001b[1;32m    964\u001b[0m     \u001b[0;32mdef\u001b[0m \u001b[0m_make_engine\u001b[0m\u001b[0;34m(\u001b[0m\u001b[0mself\u001b[0m\u001b[0;34m,\u001b[0m \u001b[0mengine\u001b[0m\u001b[0;34m=\u001b[0m\u001b[0;34m'c'\u001b[0m\u001b[0;34m)\u001b[0m\u001b[0;34m:\u001b[0m\u001b[0;34m\u001b[0m\u001b[0m\n\u001b[1;32m    965\u001b[0m         \u001b[0;32mif\u001b[0m \u001b[0mengine\u001b[0m \u001b[0;34m==\u001b[0m \u001b[0;34m'c'\u001b[0m\u001b[0;34m:\u001b[0m\u001b[0;34m\u001b[0m\u001b[0m\n\u001b[0;32m--> 966\u001b[0;31m             \u001b[0mself\u001b[0m\u001b[0;34m.\u001b[0m\u001b[0m_engine\u001b[0m \u001b[0;34m=\u001b[0m \u001b[0mCParserWrapper\u001b[0m\u001b[0;34m(\u001b[0m\u001b[0mself\u001b[0m\u001b[0;34m.\u001b[0m\u001b[0mf\u001b[0m\u001b[0;34m,\u001b[0m \u001b[0;34m**\u001b[0m\u001b[0mself\u001b[0m\u001b[0;34m.\u001b[0m\u001b[0moptions\u001b[0m\u001b[0;34m)\u001b[0m\u001b[0;34m\u001b[0m\u001b[0m\n\u001b[0m\u001b[1;32m    967\u001b[0m         \u001b[0;32melse\u001b[0m\u001b[0;34m:\u001b[0m\u001b[0;34m\u001b[0m\u001b[0m\n\u001b[1;32m    968\u001b[0m             \u001b[0;32mif\u001b[0m \u001b[0mengine\u001b[0m \u001b[0;34m==\u001b[0m \u001b[0;34m'python'\u001b[0m\u001b[0;34m:\u001b[0m\u001b[0;34m\u001b[0m\u001b[0m\n",
      "\u001b[0;32m/usr/local/lib/python3.5/dist-packages/pandas/io/parsers.py\u001b[0m in \u001b[0;36m__init__\u001b[0;34m(self, src, **kwds)\u001b[0m\n\u001b[1;32m   1580\u001b[0m         \u001b[0mkwds\u001b[0m\u001b[0;34m[\u001b[0m\u001b[0;34m'allow_leading_cols'\u001b[0m\u001b[0;34m]\u001b[0m \u001b[0;34m=\u001b[0m \u001b[0mself\u001b[0m\u001b[0;34m.\u001b[0m\u001b[0mindex_col\u001b[0m \u001b[0;32mis\u001b[0m \u001b[0;32mnot\u001b[0m \u001b[0;32mFalse\u001b[0m\u001b[0;34m\u001b[0m\u001b[0m\n\u001b[1;32m   1581\u001b[0m \u001b[0;34m\u001b[0m\u001b[0m\n\u001b[0;32m-> 1582\u001b[0;31m         \u001b[0mself\u001b[0m\u001b[0;34m.\u001b[0m\u001b[0m_reader\u001b[0m \u001b[0;34m=\u001b[0m \u001b[0mparsers\u001b[0m\u001b[0;34m.\u001b[0m\u001b[0mTextReader\u001b[0m\u001b[0;34m(\u001b[0m\u001b[0msrc\u001b[0m\u001b[0;34m,\u001b[0m \u001b[0;34m**\u001b[0m\u001b[0mkwds\u001b[0m\u001b[0;34m)\u001b[0m\u001b[0;34m\u001b[0m\u001b[0m\n\u001b[0m\u001b[1;32m   1583\u001b[0m \u001b[0;34m\u001b[0m\u001b[0m\n\u001b[1;32m   1584\u001b[0m         \u001b[0;31m# XXX\u001b[0m\u001b[0;34m\u001b[0m\u001b[0;34m\u001b[0m\u001b[0m\n",
      "\u001b[0;32mpandas/_libs/parsers.pyx\u001b[0m in \u001b[0;36mpandas._libs.parsers.TextReader.__cinit__ (pandas/_libs/parsers.c:4209)\u001b[0;34m()\u001b[0m\n",
      "\u001b[0;32mpandas/_libs/parsers.pyx\u001b[0m in \u001b[0;36mpandas._libs.parsers.TextReader._setup_parser_source (pandas/_libs/parsers.c:8873)\u001b[0;34m()\u001b[0m\n",
      "\u001b[0;31mFileNotFoundError\u001b[0m: File b'Totals_soln.csv' does not exist"
     ]
    }
   ],
   "source": [
    "Totals_soln = pd.read_csv ('Totals_soln.csv')\n",
    "\n",
    "assert 'Totals' in globals ()\n",
    "assert type (Totals) is type (Totals_soln)\n",
    "assert set (Totals.columns) == set (['st', 'year', 'migrated', 'stayed', 'all'])\n",
    "\n",
    "print (\"Some rows of Totals:\")\n",
    "print (Totals.head ())\n",
    "print (\"...\")\n",
    "print (Totals.tail ())\n",
    "\n",
    "print (\"\\n({} rows total.)\".format (len (Totals)))\n",
    "\n",
    "assert tbeq (Totals, Totals_soln)"
   ]
  },
  {
   "cell_type": "markdown",
   "metadata": {},
   "source": [
    "**Exercise 2** (1 points). Load the FIPS codes from `fips-state-2010-census.txt`. Store them in a Pandas data frame named `FIPS`. Use the original column names from the input file: `STATE`, `STUSAB`, `STATE_NAME`, `STATENS`.\n",
    "\n",
    "> Hint: You can use Pandas's [`read_csv()`](http://pandas.pydata.org/pandas-docs/stable/generated/pandas.read_csv.html) function to read the file. However, be sure to take a look at the file before you try to load it, so you know how to parse by setting the arguments of `read_csv()` appropriately."
   ]
  },
  {
   "cell_type": "code",
   "execution_count": 29,
   "metadata": {
    "collapsed": true,
    "nbgrader": {
     "grade": false,
     "grade_id": "FIPS",
     "locked": false,
     "solution": true
    }
   },
   "outputs": [],
   "source": [
    "#\n",
    "# YOUR CODE HERE\n",
    "#\n"
   ]
  },
  {
   "cell_type": "code",
   "execution_count": null,
   "metadata": {
    "collapsed": true,
    "nbgrader": {
     "grade": true,
     "grade_id": "FIPS_test",
     "locked": true,
     "points": 1,
     "solution": false
    }
   },
   "outputs": [],
   "source": [
    "assert 'FIPS' in globals ()\n",
    "assert type (FIPS) is type (pd.DataFrame ())\n",
    "assert len (FIPS) == 57\n",
    "\n",
    "print (\"FIPS data frame, at location 10:\\n\")\n",
    "print (FIPS.loc[10])\n",
    "assert FIPS.loc[10, 'STATE_NAME'] == 'Georgia'\n",
    "\n",
    "print (\"\\n(Passed!)\")"
   ]
  },
  {
   "cell_type": "markdown",
   "metadata": {},
   "source": [
    "Inspect the test code above. Notice that the FIPS code for Georgia is 13, which is located at index position 10 of the data frame (i.e., at `FIPS.loc[10]`).\n",
    "\n",
    "It would help if the index of the data frame were also the same as the FIPS state code (`STATE`). That way, you could use `FIPS.loc[13]` to get the state code for Georgia; in effect, converting the data frame into something similar to a Python dictionary.\n",
    "\n",
    "**Exercise 3** (1 points). Convert the `STATE` column into an index. To do so, use the Pandas method, [`FIPS.set_index()`](http://pandas.pydata.org/pandas-docs/stable/generated/pandas.DataFrame.set_index.html). Set the arguments to `set_index()` so that the change is made in-place."
   ]
  },
  {
   "cell_type": "code",
   "execution_count": null,
   "metadata": {
    "collapsed": true,
    "nbgrader": {
     "grade": false,
     "grade_id": "set_index",
     "locked": false,
     "solution": true
    }
   },
   "outputs": [],
   "source": [
    "#\n",
    "# YOUR CODE HERE\n",
    "#\n"
   ]
  },
  {
   "cell_type": "code",
   "execution_count": null,
   "metadata": {
    "collapsed": true,
    "nbgrader": {
     "grade": true,
     "grade_id": "set_index_test",
     "locked": true,
     "points": 1,
     "solution": false
    }
   },
   "outputs": [],
   "source": [
    "display (FIPS[10:15])\n",
    "\n",
    "assert set (FIPS.columns) == set (['STUSAB', 'STATE_NAME', 'STATENS'])\n",
    "assert FIPS.loc[13, 'STATE_NAME'] == 'Georgia'\n",
    "assert FIPS.loc[15, 'STATE_NAME'] == 'Hawaii'\n",
    "print (\"\\n(Passed!)\")"
   ]
  },
  {
   "cell_type": "markdown",
   "metadata": {},
   "source": [
    "## Migration edges\n",
    "\n",
    "Using the code you've set up above, we can build a table of _migration edges_, that is, a succinct summary of the number of households that moved from one state to another, broken down by year. The following code cell does that, leaving the result in a Pandas data frame called `MigrationEdges`."
   ]
  },
  {
   "cell_type": "code",
   "execution_count": null,
   "metadata": {
    "collapsed": true,
    "nbgrader": {
     "grade": false,
     "grade_id": "percentages",
     "locked": false,
     "solution": false
    }
   },
   "outputs": [],
   "source": [
    "Edges = StateOutFlows[['y1_statefips', 'y2_state', 'year', 'n1']]\n",
    "Edges = pd.merge (Edges, FIPS[['STUSAB']],\n",
    "                  left_on='y1_statefips', right_index=True)\n",
    "Edges.rename (columns={'STUSAB': 'from', 'y2_state': 'to', 'n1': 'moved'}, inplace=True)\n",
    "del Edges['y1_statefips']\n",
    "\n",
    "MigrationEdges = Edges[Edges['from'] != Edges['to']]\n",
    "MigrationEdges.head ()"
   ]
  },
  {
   "cell_type": "markdown",
   "metadata": {},
   "source": [
    "Using the `MigrationEdges` data frame, we can (relatively) easily determine the top 5 states whose households moved to the state of Georgia over all years. Here is one way to do so:\n",
    "\n",
    "1. Filter rows keeping only those containing `'GA'` as the destination.\n",
    "2. Group the results by originating state.\n",
    "3. Sum the results over all years.\n",
    "4. Sort these results in descending order.\n",
    "5. Emit just the top 5 results."
   ]
  },
  {
   "cell_type": "code",
   "execution_count": null,
   "metadata": {
    "collapsed": true
   },
   "outputs": [],
   "source": [
    "# Steps 1 and 2\n",
    "ToGA = (MigrationEdges['to'] == 'GA')\n",
    "MovedToGA = MigrationEdges[ToGA].groupby ('from')\n",
    "\n",
    "# Step 3\n",
    "MovedToGA_counts_by_state = MovedToGA['moved'].sum ()\n",
    "MovedToGA_counts_by_state[:10]"
   ]
  },
  {
   "cell_type": "code",
   "execution_count": null,
   "metadata": {
    "collapsed": true
   },
   "outputs": [],
   "source": [
    "# Steps 4 and 5: Sort and report the top 5\n",
    "MovedToGA_counts_by_state.sort_values (ascending=False)[:5]"
   ]
  },
  {
   "cell_type": "markdown",
   "metadata": {},
   "source": [
    "**Exercise 4** (2 points). Following a similar procedure, determine the top 5 states that Georgians moved to. Store the resulting names and counts in a variable named `GAExodus`."
   ]
  },
  {
   "cell_type": "code",
   "execution_count": null,
   "metadata": {
    "collapsed": true,
    "nbgrader": {
     "grade": false,
     "grade_id": "GAExodus",
     "locked": false,
     "solution": true
    }
   },
   "outputs": [],
   "source": [
    "#\n",
    "# YOUR CODE HERE\n",
    "#\n"
   ]
  },
  {
   "cell_type": "code",
   "execution_count": null,
   "metadata": {
    "collapsed": true,
    "nbgrader": {
     "grade": true,
     "grade_id": "GAExodus_test",
     "locked": true,
     "points": 2,
     "solution": false
    }
   },
   "outputs": [],
   "source": [
    "assert 'GAExodus' in globals ()\n",
    "assert type (GAExodus) is type (pd.Series ())\n",
    "assert len (GAExodus) == 5\n",
    "\n",
    "print (\"=== The exodus from Georgia ===\")\n",
    "assert set (GAExodus.index) == set (['FL', 'TX', 'AL', 'NC', 'SC'])\n",
    "assert (GAExodus.values == [86178, 50467, 32970, 30352, 30141]).all ()\n",
    "print (GAExodus)\n",
    "\n",
    "print (\"\\n(Passed!)\")"
   ]
  },
  {
   "cell_type": "markdown",
   "metadata": {
    "collapsed": true
   },
   "source": [
    "**Fin!** If you've reached this point and all tests above pass, you are ready to submit your solution to this problem. Don't forget to save you work prior to submitting."
   ]
  }
 ],
 "metadata": {
  "celltoolbar": "Create Assignment",
  "kernelspec": {
   "display_name": "Python 3",
   "language": "python",
   "name": "python3"
  },
  "language_info": {
   "codemirror_mode": {
    "name": "ipython",
    "version": 3
   },
   "file_extension": ".py",
   "mimetype": "text/x-python",
   "name": "python",
   "nbconvert_exporter": "python",
   "pygments_lexer": "ipython3",
   "version": "3.5.2"
  }
 },
 "nbformat": 4,
 "nbformat_minor": 1
}
